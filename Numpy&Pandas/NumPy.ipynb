{
 "cells": [
  {
   "cell_type": "markdown",
   "id": "fa62eb7a-6219-4e08-944f-4599fe07ba4d",
   "metadata": {
    "jp-MarkdownHeadingCollapsed": true
   },
   "source": [
    "# Numberical Py                       \n",
    "#### diff b/w array and tuples,dict,list(\"array is single valuable and share same data types)\n",
    "                                    \n",
    "##### Mathematical lib in Py\n",
    "##### Travis Oliphant in 2005\n",
    "##### these can perform:\n",
    "            matematical and logical operation on array\n",
    "            fourier transform and routine for shape manipulation\n",
    "            collection of high level mathamatical function\n",
    "##### what is array?\n",
    "##### array is single valuable and share same data types            \n",
    "##### indexed by +ve integers\n",
    "##### index is start from zero to max in py\n",
    "##### ex: array  ={1,12,54,5412}\n",
    "          tuples ={1,12,54,5412}"
   ]
  },
  {
   "cell_type": "markdown",
   "id": "c4cb040e-d162-4a85-a2b1-ed2a35ab20b8",
   "metadata": {},
   "source": [
    "#  Pandas\n",
    "\n",
    "#### pandas library used for data set\n",
    "#### Data manupulation(split,read) and Analysis,Data mining(Take Insight Information From the Datas) libraray built in py\n",
    "#### Pandas Offers:\n",
    "                  ->Data Structure(array,dataframe,matrics)\n",
    "                  ->Manupulating numerical tables()\n",
    "                  ->Various Formats\n",
    "                  ->Merging & Join Dataset(join->add more colums & merge->add more number of datas)\n",
    "                  ->Time Series & more\n",
    "#### Develped By Wes Mckinney in 2008                  \n"
   ]
  },
  {
   "cell_type": "markdown",
   "id": "6c6a37fa-9052-489a-827c-2f0f443c871f",
   "metadata": {},
   "source": [
    "## Import Library"
   ]
  },
  {
   "cell_type": "code",
   "execution_count": 1,
   "id": "c2673efe-39ae-4e09-8d0d-f7a490156868",
   "metadata": {},
   "outputs": [],
   "source": [
    "import numpy as np"
   ]
  },
  {
   "cell_type": "code",
   "execution_count": 2,
   "id": "6f0449fe-15bd-40d7-8b7d-df713b363b1a",
   "metadata": {},
   "outputs": [
    {
     "data": {
      "text/plain": [
       "'2.0.2'"
      ]
     },
     "execution_count": 2,
     "metadata": {},
     "output_type": "execute_result"
    }
   ],
   "source": [
    "np.version.version"
   ]
  },
  {
   "cell_type": "markdown",
   "id": "4a549e47-5c75-48a5-9605-bf51fe5892c7",
   "metadata": {},
   "source": [
    "# 1D Array"
   ]
  },
  {
   "cell_type": "code",
   "execution_count": 3,
   "id": "c8e96071-9730-43c8-99c1-f62f812d3bc1",
   "metadata": {},
   "outputs": [],
   "source": [
    "firstarray = np.array([1,2,3,4,5,6,7])"
   ]
  },
  {
   "cell_type": "code",
   "execution_count": 4,
   "id": "212cafe6-c07d-4513-a820-704d909e3f0c",
   "metadata": {},
   "outputs": [
    {
     "name": "stdout",
     "output_type": "stream",
     "text": [
      "[1 2 3 4 5 6 7]\n"
     ]
    }
   ],
   "source": [
    "print(firstarray)"
   ]
  },
  {
   "cell_type": "code",
   "execution_count": 5,
   "id": "6ac0f22e-3d27-47a9-aef5-d9c55d48f5c2",
   "metadata": {},
   "outputs": [
    {
     "data": {
      "text/plain": [
       "numpy.ndarray"
      ]
     },
     "execution_count": 5,
     "metadata": {},
     "output_type": "execute_result"
    }
   ],
   "source": [
    "type(firstarray)"
   ]
  },
  {
   "cell_type": "markdown",
   "id": "fd1bc7b5-eb5d-47eb-9000-2c9143fbf2d9",
   "metadata": {},
   "source": [
    "# 2D Array"
   ]
  },
  {
   "cell_type": "code",
   "execution_count": 6,
   "id": "ef44fd2e-3ad5-4950-943c-055962241262",
   "metadata": {},
   "outputs": [],
   "source": [
    "secondary = np.array([(1,2,3),(4,5,5)])"
   ]
  },
  {
   "cell_type": "code",
   "execution_count": 7,
   "id": "d0260f15-39b2-4703-8af9-b787e1b75f14",
   "metadata": {},
   "outputs": [
    {
     "name": "stdout",
     "output_type": "stream",
     "text": [
      "[[1 2 3]\n",
      " [4 5 5]]\n"
     ]
    }
   ],
   "source": [
    "print(secondary)"
   ]
  },
  {
   "cell_type": "markdown",
   "id": "123d2e36-f2c8-41a1-be7c-9641bf77bd99",
   "metadata": {},
   "source": [
    "# 3D Array"
   ]
  },
  {
   "cell_type": "code",
   "execution_count": 8,
   "id": "6c45fa7c-1d1d-4db6-9c31-f23dd7f6ee6d",
   "metadata": {},
   "outputs": [],
   "source": [
    "third_array = np.array([[(1,2,3),(4,5,6),(7,8,9),(10,11,12),(13,14,15),(16,17,18),(16,17,18)]])"
   ]
  },
  {
   "cell_type": "code",
   "execution_count": 9,
   "id": "06c4808b-f596-4f11-9f32-2b4a634e28b2",
   "metadata": {},
   "outputs": [
    {
     "data": {
      "text/plain": [
       "array([[[ 1,  2,  3],\n",
       "        [ 4,  5,  6],\n",
       "        [ 7,  8,  9],\n",
       "        [10, 11, 12],\n",
       "        [13, 14, 15],\n",
       "        [16, 17, 18],\n",
       "        [16, 17, 18]]])"
      ]
     },
     "execution_count": 9,
     "metadata": {},
     "output_type": "execute_result"
    }
   ],
   "source": [
    "third_array"
   ]
  },
  {
   "cell_type": "markdown",
   "id": "a12acf70-8c12-4b5a-8a1a-746492359fce",
   "metadata": {},
   "source": [
    "#### c is column and f order in memory,dtype=desired datatype of array , shape:shape of array"
   ]
  },
  {
   "cell_type": "code",
   "execution_count": 10,
   "id": "a52fbc90-6f78-4fc3-b32e-2218db49eb9e",
   "metadata": {},
   "outputs": [],
   "source": [
    "fourth_array = np.zeros((1,1))"
   ]
  },
  {
   "cell_type": "code",
   "execution_count": 11,
   "id": "be8cc70e-c3d1-4b0b-9951-7171aa37d360",
   "metadata": {},
   "outputs": [
    {
     "name": "stdout",
     "output_type": "stream",
     "text": [
      "[[0.]]\n"
     ]
    }
   ],
   "source": [
    "print(fourth_array)"
   ]
  },
  {
   "cell_type": "markdown",
   "id": "a78042a8-6127-4565-afd9-2176873dc8d6",
   "metadata": {},
   "source": [
    "## Creating ones array\n"
   ]
  },
  {
   "cell_type": "code",
   "execution_count": 12,
   "id": "3d80f1b9-cedc-4087-8d23-4d603f9ac431",
   "metadata": {},
   "outputs": [
    {
     "data": {
      "text/plain": [
       "array([[1., 1., 1., 1.],\n",
       "       [1., 1., 1., 1.],\n",
       "       [1., 1., 1., 1.]])"
      ]
     },
     "execution_count": 12,
     "metadata": {},
     "output_type": "execute_result"
    }
   ],
   "source": [
    "ones_array = np.ones((3,4))\n",
    "ones_array"
   ]
  },
  {
   "cell_type": "markdown",
   "id": "b4e95f19-803b-4f1d-ad94-457c820d70ca",
   "metadata": {},
   "source": [
    "###  Linspace"
   ]
  },
  {
   "cell_type": "code",
   "execution_count": 13,
   "id": "4496219c-9d84-4b0b-b361-e0681a7ec4d2",
   "metadata": {},
   "outputs": [],
   "source": [
    "spaced_num = np.linspace(0,20,10)"
   ]
  },
  {
   "cell_type": "code",
   "execution_count": 14,
   "id": "88e18f98-8bba-4dc7-aff1-c36a71a3ac00",
   "metadata": {},
   "outputs": [
    {
     "data": {
      "text/plain": [
       "array([ 0.        ,  2.22222222,  4.44444444,  6.66666667,  8.88888889,\n",
       "       11.11111111, 13.33333333, 15.55555556, 17.77777778, 20.        ])"
      ]
     },
     "execution_count": 14,
     "metadata": {},
     "output_type": "execute_result"
    }
   ],
   "source": [
    "spaced_num"
   ]
  },
  {
   "cell_type": "markdown",
   "id": "678ff209-a4c4-47f4-b80d-1c6681c38ddd",
   "metadata": {},
   "source": [
    "## Array Manupulation"
   ]
  },
  {
   "cell_type": "code",
   "execution_count": 15,
   "id": "e01098d5-4840-4167-b813-e4f6b36375f9",
   "metadata": {},
   "outputs": [],
   "source": [
    "my_array = np.array([0,1,2,3])"
   ]
  },
  {
   "cell_type": "code",
   "execution_count": 16,
   "id": "fa579fb4-865c-4f3b-9c8b-ddf9f9d4927e",
   "metadata": {},
   "outputs": [
    {
     "name": "stdout",
     "output_type": "stream",
     "text": [
      "[0 1 2 3]\n"
     ]
    }
   ],
   "source": [
    "print(my_array)"
   ]
  },
  {
   "cell_type": "code",
   "execution_count": 17,
   "id": "ef79dfa4-b23d-454d-8871-4e1c7ba5cfe4",
   "metadata": {},
   "outputs": [],
   "source": [
    "arr_ones = np.ones((2,2))"
   ]
  },
  {
   "cell_type": "code",
   "execution_count": 18,
   "id": "9f5a6d87-8d56-4c62-a111-093fc86dbc35",
   "metadata": {},
   "outputs": [
    {
     "name": "stdout",
     "output_type": "stream",
     "text": [
      "[[1. 1.]\n",
      " [1. 1.]]\n"
     ]
    }
   ],
   "source": [
    "print(arr_ones)"
   ]
  },
  {
   "cell_type": "code",
   "execution_count": 19,
   "id": "cc585073-811d-4b58-8894-1ef91cbe7571",
   "metadata": {},
   "outputs": [],
   "source": [
    "my_matrix = np.array([(11,18,19),(20,26,91),(11,18,19),(11,18,19)])"
   ]
  },
  {
   "cell_type": "code",
   "execution_count": 20,
   "id": "358a9823-692d-4b6a-817b-f8f333fa0355",
   "metadata": {},
   "outputs": [
    {
     "name": "stdout",
     "output_type": "stream",
     "text": [
      "[[11 18 19]\n",
      " [20 26 91]\n",
      " [11 18 19]\n",
      " [11 18 19]]\n"
     ]
    }
   ],
   "source": [
    "print(my_matrix)"
   ]
  },
  {
   "cell_type": "markdown",
   "id": "3c7ddb9e-4210-4ebc-8935-488a5bc0bf73",
   "metadata": {},
   "source": [
    "### Transpose"
   ]
  },
  {
   "cell_type": "code",
   "execution_count": 21,
   "id": "6153a15c-fdbe-436f-9b81-e1acc1e80597",
   "metadata": {},
   "outputs": [
    {
     "name": "stdout",
     "output_type": "stream",
     "text": [
      "[[11 20 11 11]\n",
      " [18 26 18 18]\n",
      " [19 91 19 19]]\n"
     ]
    }
   ],
   "source": [
    "transpose_array = np.transpose(my_matrix)\n",
    "print(transpose_array)"
   ]
  },
  {
   "cell_type": "code",
   "execution_count": 22,
   "id": "8ef8a1b4-7ca9-4123-9f25-1f2e7e10dbc7",
   "metadata": {},
   "outputs": [
    {
     "data": {
      "text/plain": [
       "array([11, 18, 19, 20, 26, 91, 11, 18, 19, 11, 18, 19])"
      ]
     },
     "execution_count": 22,
     "metadata": {},
     "output_type": "execute_result"
    }
   ],
   "source": [
    "my_matrix.ravel()"
   ]
  }
 ],
 "metadata": {
  "kernelspec": {
   "display_name": "Python 3 (ipykernel)",
   "language": "python",
   "name": "python3"
  },
  "language_info": {
   "codemirror_mode": {
    "name": "ipython",
    "version": 3
   },
   "file_extension": ".py",
   "mimetype": "text/x-python",
   "name": "python",
   "nbconvert_exporter": "python",
   "pygments_lexer": "ipython3",
   "version": "3.12.4"
  }
 },
 "nbformat": 4,
 "nbformat_minor": 5
}
