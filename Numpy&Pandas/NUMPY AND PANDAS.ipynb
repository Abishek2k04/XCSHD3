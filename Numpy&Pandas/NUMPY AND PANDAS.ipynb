{
 "cells": [
  {
   "cell_type": "markdown",
   "id": "93590557-5a15-4d18-8a5a-2d51721cc3fe",
   "metadata": {},
   "source": [
    "# NUMPY"
   ]
  },
  {
   "cell_type": "code",
   "execution_count": 1,
   "id": "1d515495-e895-4836-b6c9-8a6d16271caa",
   "metadata": {},
   "outputs": [
    {
     "name": "stdout",
     "output_type": "stream",
     "text": [
      "Requirement already satisfied: numpy in c:\\users\\arr64\\anaconda3\\envs\\rahmans_analysis\\lib\\site-packages (2.0.1)\n",
      "Note: you may need to restart the kernel to use updated packages.\n"
     ]
    }
   ],
   "source": [
    "pip install numpy"
   ]
  },
  {
   "cell_type": "code",
   "execution_count": 1,
   "id": "4502daef-daaf-4e99-b03d-55ca7e3a50bf",
   "metadata": {},
   "outputs": [],
   "source": [
    "import numpy as np"
   ]
  },
  {
   "cell_type": "code",
   "execution_count": 2,
   "id": "b437a528-1502-4d1f-8fd2-cc6f7c4c884a",
   "metadata": {},
   "outputs": [
    {
     "data": {
      "text/plain": [
       "'2.0.2'"
      ]
     },
     "execution_count": 2,
     "metadata": {},
     "output_type": "execute_result"
    }
   ],
   "source": [
    "np.version.version"
   ]
  },
  {
   "cell_type": "markdown",
   "id": "20d7840d-10b8-4dae-a379-a503d03866b1",
   "metadata": {},
   "source": [
    "# ONE DIMENTIONAL ARRAY"
   ]
  },
  {
   "cell_type": "markdown",
   "id": "01605469-a8f1-427e-af73-28bdd31b26bc",
   "metadata": {},
   "source": [
    "## SYNTAX : numpy.array([values]) "
   ]
  },
  {
   "cell_type": "code",
   "execution_count": 3,
   "id": "e4f1756e-c604-4c1d-b9ed-b4185a0c0ff6",
   "metadata": {},
   "outputs": [],
   "source": [
    "first_array = np.array([[1, 2, 3, 4, 5]])"
   ]
  },
  {
   "cell_type": "code",
   "execution_count": 4,
   "id": "4392911a-c00c-4ec5-81e5-86b5b53efb8b",
   "metadata": {},
   "outputs": [
    {
     "data": {
      "text/plain": [
       "array([[1, 2, 3, 4, 5]])"
      ]
     },
     "execution_count": 4,
     "metadata": {},
     "output_type": "execute_result"
    }
   ],
   "source": [
    "first_array"
   ]
  },
  {
   "cell_type": "code",
   "execution_count": 5,
   "id": "25535fdb-770c-4d0d-9cd9-919acaf287a5",
   "metadata": {},
   "outputs": [
    {
     "data": {
      "text/plain": [
       "numpy.ndarray"
      ]
     },
     "execution_count": 5,
     "metadata": {},
     "output_type": "execute_result"
    }
   ],
   "source": [
    "type(first_array)"
   ]
  },
  {
   "cell_type": "markdown",
   "id": "fc64429c-b782-4da3-b112-1dd6e9cc2723",
   "metadata": {},
   "source": [
    "# TWO DIMENTIONAL ARRAY"
   ]
  },
  {
   "cell_type": "code",
   "execution_count": 6,
   "id": "841c31a1-cefd-4c6e-9f7f-b488179babe6",
   "metadata": {
    "scrolled": true
   },
   "outputs": [
    {
     "data": {
      "text/plain": [
       "array([[ 7,  8,  9],\n",
       "       [10, 11, 12]])"
      ]
     },
     "execution_count": 6,
     "metadata": {},
     "output_type": "execute_result"
    }
   ],
   "source": [
    "second_array = np.array([(7,8,9),(10,11,12)])\n",
    "second_array"
   ]
  },
  {
   "cell_type": "markdown",
   "id": "88f882aa-aee7-4f12-a794-4c6482bc9adf",
   "metadata": {},
   "source": [
    "# THREE DIMENTIONAL ARRAY"
   ]
  },
  {
   "cell_type": "code",
   "execution_count": 7,
   "id": "a5ace5b0-50b0-43f9-9498-c55a42736d38",
   "metadata": {},
   "outputs": [
    {
     "data": {
      "text/plain": [
       "array([[[ 7,  8,  9],\n",
       "        [10, 11, 12]],\n",
       "\n",
       "       [[13, 14, 15],\n",
       "        [16, 17, 18]],\n",
       "\n",
       "       [[19, 20, 21],\n",
       "        [22, 23, 24]]])"
      ]
     },
     "execution_count": 7,
     "metadata": {},
     "output_type": "execute_result"
    }
   ],
   "source": [
    "third_array = np.array([[(7,8,9),(10,11,12)],[(13,14,15),(16,17,18)],[(19,20,21),(22,23,24)]])\n",
    "third_array"
   ]
  },
  {
   "cell_type": "code",
   "execution_count": 8,
   "id": "008d0db9-706d-459b-9c8a-e57a8dcdeb4a",
   "metadata": {},
   "outputs": [
    {
     "data": {
      "text/plain": [
       "array([[0., 0.],\n",
       "       [0., 0.]])"
      ]
     },
     "execution_count": 8,
     "metadata": {},
     "output_type": "execute_result"
    }
   ],
   "source": [
    "zero_array = np.zeros((2,2))\n",
    "zero_array"
   ]
  },
  {
   "cell_type": "code",
   "execution_count": 9,
   "id": "3b4e2aba-4e62-4204-8858-62b05fd7ef3c",
   "metadata": {},
   "outputs": [
    {
     "data": {
      "text/plain": [
       "array([[1., 1.],\n",
       "       [1., 1.]])"
      ]
     },
     "execution_count": 9,
     "metadata": {},
     "output_type": "execute_result"
    }
   ],
   "source": [
    "one_array = np.ones((2,2))\n",
    "one_array"
   ]
  },
  {
   "cell_type": "markdown",
   "id": "3b5eedb0-82bb-4aec-85e1-ba87e93017eb",
   "metadata": {},
   "source": [
    "# LINESPACE"
   ]
  },
  {
   "cell_type": "code",
   "execution_count": 10,
   "id": "a89a3226-0567-44fe-ac10-c08e659c085d",
   "metadata": {},
   "outputs": [
    {
     "name": "stdout",
     "output_type": "stream",
     "text": [
      "[ 0.          2.22222222  4.44444444  6.66666667  8.88888889 11.11111111\n",
      " 13.33333333 15.55555556 17.77777778 20.        ]\n"
     ]
    }
   ],
   "source": [
    "SPACED_NUM= np.linspace(0,20,10)\n",
    "print(SPACED_NUM)"
   ]
  },
  {
   "cell_type": "markdown",
   "id": "1eb34a60-506e-4a67-8dc9-aae7e469bc3e",
   "metadata": {},
   "source": [
    "# ARRAY MANIPULATION"
   ]
  },
  {
   "cell_type": "code",
   "execution_count": 11,
   "id": "4493b181-5a93-4ee1-ba08-dfd5347a3a3c",
   "metadata": {},
   "outputs": [],
   "source": [
    "my_array = np.array([(1,2,3),(4,5,6)])\n",
    "ar_ones = np.ones((3,3))"
   ]
  },
  {
   "cell_type": "markdown",
   "id": "16d719a6-5305-43a0-9f97-f46af47be2cb",
   "metadata": {},
   "source": [
    "# TRANSPOSE"
   ]
  },
  {
   "cell_type": "code",
   "execution_count": 12,
   "id": "4e024fc3-4e12-42f1-9dfb-cca2aa606e06",
   "metadata": {},
   "outputs": [],
   "source": [
    "matr_tranpose = np.transpose(my_array)"
   ]
  },
  {
   "cell_type": "code",
   "execution_count": 13,
   "id": "4f4cd0d5-5039-4936-a340-8c8e684c69fb",
   "metadata": {},
   "outputs": [
    {
     "name": "stdout",
     "output_type": "stream",
     "text": [
      "[[1 4]\n",
      " [2 5]\n",
      " [3 6]]\n"
     ]
    }
   ],
   "source": [
    "print(matr_tranpose)"
   ]
  },
  {
   "cell_type": "markdown",
   "id": "6c743a44-2151-4401-924b-fba326b9e86d",
   "metadata": {},
   "source": [
    "# FLATENING ARRAY"
   ]
  },
  {
   "cell_type": "code",
   "execution_count": 14,
   "id": "cf4e58d6-153e-4af2-a899-8b521771c852",
   "metadata": {},
   "outputs": [
    {
     "data": {
      "text/plain": [
       "array([1, 4, 2, 5, 3, 6])"
      ]
     },
     "execution_count": 14,
     "metadata": {},
     "output_type": "execute_result"
    }
   ],
   "source": [
    "matr_tranpose.ravel()"
   ]
  },
  {
   "cell_type": "code",
   "execution_count": 15,
   "id": "6076e31e-01de-4acb-a210-75343bac1f4a",
   "metadata": {},
   "outputs": [],
   "source": [
    "import pandas as pd #for data manipulation and analysis"
   ]
  },
  {
   "cell_type": "code",
   "execution_count": 16,
   "id": "1d0f5e05-c5e2-4291-8140-4b278a4111c7",
   "metadata": {},
   "outputs": [
    {
     "data": {
      "text/plain": [
       "'2.2.2'"
      ]
     },
     "execution_count": 16,
     "metadata": {},
     "output_type": "execute_result"
    }
   ],
   "source": [
    "pd.__version__"
   ]
  },
  {
   "cell_type": "code",
   "execution_count": 17,
   "id": "1ed9a524-1c02-4aec-b460-fce6e7db7dee",
   "metadata": {},
   "outputs": [],
   "source": [
    "a1 = pd.Series(['Rakshana','Guptha','Santhiya','Guhan','Rasik'],index = [0,1,2,3,4]) #for converting into certain format"
   ]
  },
  {
   "cell_type": "code",
   "execution_count": 18,
   "id": "3a12f4aa-7954-45f7-95cc-7eaa6f874cfd",
   "metadata": {},
   "outputs": [
    {
     "data": {
      "text/plain": [
       "0    Rakshana\n",
       "1      Guptha\n",
       "2    Santhiya\n",
       "3       Guhan\n",
       "4       Rasik\n",
       "dtype: object"
      ]
     },
     "execution_count": 18,
     "metadata": {},
     "output_type": "execute_result"
    }
   ],
   "source": [
    "a1"
   ]
  },
  {
   "cell_type": "code",
   "execution_count": 19,
   "id": "7e1c384f-0f22-4713-b73d-8004905d1dfe",
   "metadata": {},
   "outputs": [],
   "source": [
    "season = {\"winter\":{1:'nov',2:'dec',3:'jan',4:'feb'},\"dry\":{1:'mar',2:'apr',3:'may',4:'jun'},\"rain\":{1:'july',2:'aug',3:'sep',4:'oct'}}"
   ]
  },
  {
   "cell_type": "code",
   "execution_count": 20,
   "id": "f4094586-b359-4796-b6f4-d9d155e12028",
   "metadata": {},
   "outputs": [],
   "source": [
    "d = pd.DataFrame(season,columns=[\"winter\",\"dry\",\"rain\"])"
   ]
  },
  {
   "cell_type": "code",
   "execution_count": 21,
   "id": "52596157-9d73-45a8-974c-77345ea9e8d5",
   "metadata": {},
   "outputs": [
    {
     "data": {
      "text/html": [
       "<div>\n",
       "<style scoped>\n",
       "    .dataframe tbody tr th:only-of-type {\n",
       "        vertical-align: middle;\n",
       "    }\n",
       "\n",
       "    .dataframe tbody tr th {\n",
       "        vertical-align: top;\n",
       "    }\n",
       "\n",
       "    .dataframe thead th {\n",
       "        text-align: right;\n",
       "    }\n",
       "</style>\n",
       "<table border=\"1\" class=\"dataframe\">\n",
       "  <thead>\n",
       "    <tr style=\"text-align: right;\">\n",
       "      <th></th>\n",
       "      <th>winter</th>\n",
       "      <th>dry</th>\n",
       "      <th>rain</th>\n",
       "    </tr>\n",
       "  </thead>\n",
       "  <tbody>\n",
       "    <tr>\n",
       "      <th>1</th>\n",
       "      <td>nov</td>\n",
       "      <td>mar</td>\n",
       "      <td>july</td>\n",
       "    </tr>\n",
       "    <tr>\n",
       "      <th>2</th>\n",
       "      <td>dec</td>\n",
       "      <td>apr</td>\n",
       "      <td>aug</td>\n",
       "    </tr>\n",
       "    <tr>\n",
       "      <th>3</th>\n",
       "      <td>jan</td>\n",
       "      <td>may</td>\n",
       "      <td>sep</td>\n",
       "    </tr>\n",
       "    <tr>\n",
       "      <th>4</th>\n",
       "      <td>feb</td>\n",
       "      <td>jun</td>\n",
       "      <td>oct</td>\n",
       "    </tr>\n",
       "  </tbody>\n",
       "</table>\n",
       "</div>"
      ],
      "text/plain": [
       "  winter  dry  rain\n",
       "1    nov  mar  july\n",
       "2    dec  apr   aug\n",
       "3    jan  may   sep\n",
       "4    feb  jun   oct"
      ]
     },
     "execution_count": 21,
     "metadata": {},
     "output_type": "execute_result"
    }
   ],
   "source": [
    "d"
   ]
  },
  {
   "cell_type": "code",
   "execution_count": 22,
   "id": "b36b1f17-14fb-46c8-88a8-4dad624365da",
   "metadata": {},
   "outputs": [],
   "source": [
    "foods_and_drinks = {\"drinks\":{1:'lemon juice',2:'orange juice',3:'watermelon juice',4:'fruit mixer',5:'lassi'},\"food_veg\":{1:'sambar',2:'lemon',3:'curd',4:'rasam',5:'keera saaru'},\"food_nonveg\":{1:'chicken',2:'mutton',3:'beef',4:'pork',5:'lamp'}}"
   ]
  },
  {
   "cell_type": "code",
   "execution_count": 23,
   "id": "db270c46-3486-400e-8a56-1c7d8daf1444",
   "metadata": {},
   "outputs": [],
   "source": [
    "h = pd.DataFrame(foods_and_drinks)"
   ]
  },
  {
   "cell_type": "code",
   "execution_count": 24,
   "id": "923277ee-d9a3-4640-a9d5-79ae59368255",
   "metadata": {},
   "outputs": [
    {
     "data": {
      "text/html": [
       "<div>\n",
       "<style scoped>\n",
       "    .dataframe tbody tr th:only-of-type {\n",
       "        vertical-align: middle;\n",
       "    }\n",
       "\n",
       "    .dataframe tbody tr th {\n",
       "        vertical-align: top;\n",
       "    }\n",
       "\n",
       "    .dataframe thead th {\n",
       "        text-align: right;\n",
       "    }\n",
       "</style>\n",
       "<table border=\"1\" class=\"dataframe\">\n",
       "  <thead>\n",
       "    <tr style=\"text-align: right;\">\n",
       "      <th></th>\n",
       "      <th>drinks</th>\n",
       "      <th>food_veg</th>\n",
       "      <th>food_nonveg</th>\n",
       "    </tr>\n",
       "  </thead>\n",
       "  <tbody>\n",
       "    <tr>\n",
       "      <th>1</th>\n",
       "      <td>lemon juice</td>\n",
       "      <td>sambar</td>\n",
       "      <td>chicken</td>\n",
       "    </tr>\n",
       "    <tr>\n",
       "      <th>2</th>\n",
       "      <td>orange juice</td>\n",
       "      <td>lemon</td>\n",
       "      <td>mutton</td>\n",
       "    </tr>\n",
       "    <tr>\n",
       "      <th>3</th>\n",
       "      <td>watermelon juice</td>\n",
       "      <td>curd</td>\n",
       "      <td>beef</td>\n",
       "    </tr>\n",
       "    <tr>\n",
       "      <th>4</th>\n",
       "      <td>fruit mixer</td>\n",
       "      <td>rasam</td>\n",
       "      <td>pork</td>\n",
       "    </tr>\n",
       "    <tr>\n",
       "      <th>5</th>\n",
       "      <td>lassi</td>\n",
       "      <td>keera saaru</td>\n",
       "      <td>lamp</td>\n",
       "    </tr>\n",
       "  </tbody>\n",
       "</table>\n",
       "</div>"
      ],
      "text/plain": [
       "             drinks     food_veg food_nonveg\n",
       "1       lemon juice       sambar     chicken\n",
       "2      orange juice        lemon      mutton\n",
       "3  watermelon juice         curd        beef\n",
       "4       fruit mixer        rasam        pork\n",
       "5             lassi  keera saaru        lamp"
      ]
     },
     "execution_count": 24,
     "metadata": {},
     "output_type": "execute_result"
    }
   ],
   "source": [
    "h"
   ]
  },
  {
   "cell_type": "code",
   "execution_count": 25,
   "id": "f810532b-59ac-41c7-8bd3-48ceafe4b383",
   "metadata": {},
   "outputs": [],
   "source": [
    "A = pd.DataFrame(np.random.randint(0,500,size=(20,3)),columns=('apple','orange','grape')) # or columns=list('abcdef') and random.randint is in the numpy library for generate the random numbers"
   ]
  },
  {
   "cell_type": "code",
   "execution_count": 26,
   "id": "85f9ba6e-f940-4c48-8a39-52a16eba08dd",
   "metadata": {},
   "outputs": [
    {
     "data": {
      "text/html": [
       "<div>\n",
       "<style scoped>\n",
       "    .dataframe tbody tr th:only-of-type {\n",
       "        vertical-align: middle;\n",
       "    }\n",
       "\n",
       "    .dataframe tbody tr th {\n",
       "        vertical-align: top;\n",
       "    }\n",
       "\n",
       "    .dataframe thead th {\n",
       "        text-align: right;\n",
       "    }\n",
       "</style>\n",
       "<table border=\"1\" class=\"dataframe\">\n",
       "  <thead>\n",
       "    <tr style=\"text-align: right;\">\n",
       "      <th></th>\n",
       "      <th>apple</th>\n",
       "      <th>orange</th>\n",
       "      <th>grape</th>\n",
       "    </tr>\n",
       "  </thead>\n",
       "  <tbody>\n",
       "    <tr>\n",
       "      <th>0</th>\n",
       "      <td>471</td>\n",
       "      <td>212</td>\n",
       "      <td>499</td>\n",
       "    </tr>\n",
       "    <tr>\n",
       "      <th>1</th>\n",
       "      <td>35</td>\n",
       "      <td>140</td>\n",
       "      <td>390</td>\n",
       "    </tr>\n",
       "    <tr>\n",
       "      <th>2</th>\n",
       "      <td>393</td>\n",
       "      <td>186</td>\n",
       "      <td>441</td>\n",
       "    </tr>\n",
       "    <tr>\n",
       "      <th>3</th>\n",
       "      <td>341</td>\n",
       "      <td>107</td>\n",
       "      <td>195</td>\n",
       "    </tr>\n",
       "    <tr>\n",
       "      <th>4</th>\n",
       "      <td>492</td>\n",
       "      <td>87</td>\n",
       "      <td>288</td>\n",
       "    </tr>\n",
       "  </tbody>\n",
       "</table>\n",
       "</div>"
      ],
      "text/plain": [
       "   apple  orange  grape\n",
       "0    471     212    499\n",
       "1     35     140    390\n",
       "2    393     186    441\n",
       "3    341     107    195\n",
       "4    492      87    288"
      ]
     },
     "execution_count": 26,
     "metadata": {},
     "output_type": "execute_result"
    }
   ],
   "source": [
    "A.head(5)"
   ]
  },
  {
   "cell_type": "code",
   "execution_count": 29,
   "id": "212ae811-b27f-42fe-8aad-0695bb2c19fc",
   "metadata": {},
   "outputs": [],
   "source": [
    "A.to_csv('C:/Users/abishek/Desktop/pandas.csv')"
   ]
  },
  {
   "cell_type": "code",
   "execution_count": 30,
   "id": "2b36f8e8-def9-490f-b59c-13b1165df905",
   "metadata": {},
   "outputs": [],
   "source": [
    "D = pd.read_csv('C:/Users/abishek/Desktop/pandas.csv')"
   ]
  },
  {
   "cell_type": "code",
   "execution_count": 31,
   "id": "9edb9601-c166-49d1-8003-e0ab0496781e",
   "metadata": {},
   "outputs": [
    {
     "data": {
      "text/html": [
       "<div>\n",
       "<style scoped>\n",
       "    .dataframe tbody tr th:only-of-type {\n",
       "        vertical-align: middle;\n",
       "    }\n",
       "\n",
       "    .dataframe tbody tr th {\n",
       "        vertical-align: top;\n",
       "    }\n",
       "\n",
       "    .dataframe thead th {\n",
       "        text-align: right;\n",
       "    }\n",
       "</style>\n",
       "<table border=\"1\" class=\"dataframe\">\n",
       "  <thead>\n",
       "    <tr style=\"text-align: right;\">\n",
       "      <th></th>\n",
       "      <th>Unnamed: 0</th>\n",
       "      <th>apple</th>\n",
       "      <th>orange</th>\n",
       "      <th>grape</th>\n",
       "    </tr>\n",
       "  </thead>\n",
       "  <tbody>\n",
       "    <tr>\n",
       "      <th>0</th>\n",
       "      <td>0</td>\n",
       "      <td>471</td>\n",
       "      <td>212</td>\n",
       "      <td>499</td>\n",
       "    </tr>\n",
       "    <tr>\n",
       "      <th>1</th>\n",
       "      <td>1</td>\n",
       "      <td>35</td>\n",
       "      <td>140</td>\n",
       "      <td>390</td>\n",
       "    </tr>\n",
       "    <tr>\n",
       "      <th>2</th>\n",
       "      <td>2</td>\n",
       "      <td>393</td>\n",
       "      <td>186</td>\n",
       "      <td>441</td>\n",
       "    </tr>\n",
       "    <tr>\n",
       "      <th>3</th>\n",
       "      <td>3</td>\n",
       "      <td>341</td>\n",
       "      <td>107</td>\n",
       "      <td>195</td>\n",
       "    </tr>\n",
       "    <tr>\n",
       "      <th>4</th>\n",
       "      <td>4</td>\n",
       "      <td>492</td>\n",
       "      <td>87</td>\n",
       "      <td>288</td>\n",
       "    </tr>\n",
       "    <tr>\n",
       "      <th>5</th>\n",
       "      <td>5</td>\n",
       "      <td>273</td>\n",
       "      <td>390</td>\n",
       "      <td>488</td>\n",
       "    </tr>\n",
       "    <tr>\n",
       "      <th>6</th>\n",
       "      <td>6</td>\n",
       "      <td>453</td>\n",
       "      <td>100</td>\n",
       "      <td>446</td>\n",
       "    </tr>\n",
       "    <tr>\n",
       "      <th>7</th>\n",
       "      <td>7</td>\n",
       "      <td>450</td>\n",
       "      <td>53</td>\n",
       "      <td>159</td>\n",
       "    </tr>\n",
       "    <tr>\n",
       "      <th>8</th>\n",
       "      <td>8</td>\n",
       "      <td>154</td>\n",
       "      <td>392</td>\n",
       "      <td>163</td>\n",
       "    </tr>\n",
       "    <tr>\n",
       "      <th>9</th>\n",
       "      <td>9</td>\n",
       "      <td>383</td>\n",
       "      <td>381</td>\n",
       "      <td>148</td>\n",
       "    </tr>\n",
       "    <tr>\n",
       "      <th>10</th>\n",
       "      <td>10</td>\n",
       "      <td>123</td>\n",
       "      <td>277</td>\n",
       "      <td>90</td>\n",
       "    </tr>\n",
       "    <tr>\n",
       "      <th>11</th>\n",
       "      <td>11</td>\n",
       "      <td>219</td>\n",
       "      <td>451</td>\n",
       "      <td>271</td>\n",
       "    </tr>\n",
       "    <tr>\n",
       "      <th>12</th>\n",
       "      <td>12</td>\n",
       "      <td>137</td>\n",
       "      <td>106</td>\n",
       "      <td>138</td>\n",
       "    </tr>\n",
       "    <tr>\n",
       "      <th>13</th>\n",
       "      <td>13</td>\n",
       "      <td>474</td>\n",
       "      <td>238</td>\n",
       "      <td>365</td>\n",
       "    </tr>\n",
       "    <tr>\n",
       "      <th>14</th>\n",
       "      <td>14</td>\n",
       "      <td>57</td>\n",
       "      <td>334</td>\n",
       "      <td>293</td>\n",
       "    </tr>\n",
       "    <tr>\n",
       "      <th>15</th>\n",
       "      <td>15</td>\n",
       "      <td>116</td>\n",
       "      <td>239</td>\n",
       "      <td>141</td>\n",
       "    </tr>\n",
       "    <tr>\n",
       "      <th>16</th>\n",
       "      <td>16</td>\n",
       "      <td>146</td>\n",
       "      <td>358</td>\n",
       "      <td>3</td>\n",
       "    </tr>\n",
       "    <tr>\n",
       "      <th>17</th>\n",
       "      <td>17</td>\n",
       "      <td>262</td>\n",
       "      <td>344</td>\n",
       "      <td>162</td>\n",
       "    </tr>\n",
       "    <tr>\n",
       "      <th>18</th>\n",
       "      <td>18</td>\n",
       "      <td>225</td>\n",
       "      <td>178</td>\n",
       "      <td>334</td>\n",
       "    </tr>\n",
       "    <tr>\n",
       "      <th>19</th>\n",
       "      <td>19</td>\n",
       "      <td>76</td>\n",
       "      <td>218</td>\n",
       "      <td>271</td>\n",
       "    </tr>\n",
       "  </tbody>\n",
       "</table>\n",
       "</div>"
      ],
      "text/plain": [
       "    Unnamed: 0  apple  orange  grape\n",
       "0            0    471     212    499\n",
       "1            1     35     140    390\n",
       "2            2    393     186    441\n",
       "3            3    341     107    195\n",
       "4            4    492      87    288\n",
       "5            5    273     390    488\n",
       "6            6    453     100    446\n",
       "7            7    450      53    159\n",
       "8            8    154     392    163\n",
       "9            9    383     381    148\n",
       "10          10    123     277     90\n",
       "11          11    219     451    271\n",
       "12          12    137     106    138\n",
       "13          13    474     238    365\n",
       "14          14     57     334    293\n",
       "15          15    116     239    141\n",
       "16          16    146     358      3\n",
       "17          17    262     344    162\n",
       "18          18    225     178    334\n",
       "19          19     76     218    271"
      ]
     },
     "execution_count": 31,
     "metadata": {},
     "output_type": "execute_result"
    }
   ],
   "source": [
    "D"
   ]
  },
  {
   "cell_type": "code",
   "execution_count": 32,
   "id": "8e0d29c1-2371-4dac-bb36-00421d08acf3",
   "metadata": {},
   "outputs": [
    {
     "data": {
      "text/plain": [
       "(20, 4)"
      ]
     },
     "execution_count": 32,
     "metadata": {},
     "output_type": "execute_result"
    }
   ],
   "source": [
    "D.shape #for identify the rows and columns"
   ]
  },
  {
   "cell_type": "code",
   "execution_count": 33,
   "id": "fe1dae34-1db4-4af4-963f-3f0a00bc4eab",
   "metadata": {},
   "outputs": [
    {
     "name": "stdout",
     "output_type": "stream",
     "text": [
      "<class 'pandas.core.frame.DataFrame'>\n",
      "RangeIndex: 20 entries, 0 to 19\n",
      "Data columns (total 4 columns):\n",
      " #   Column      Non-Null Count  Dtype\n",
      "---  ------      --------------  -----\n",
      " 0   Unnamed: 0  20 non-null     int64\n",
      " 1   apple       20 non-null     int64\n",
      " 2   orange      20 non-null     int64\n",
      " 3   grape       20 non-null     int64\n",
      "dtypes: int64(4)\n",
      "memory usage: 772.0 bytes\n"
     ]
    }
   ],
   "source": [
    "D.info()"
   ]
  },
  {
   "cell_type": "code",
   "execution_count": 36,
   "id": "53529e27-6ab5-4106-a234-556dca90ea41",
   "metadata": {},
   "outputs": [],
   "source": [
    "J = pd.read_csv('C:/Users/abishek/Documents/Abishek_DATA SCIENCE/Dataset/retail_dataset.csv')"
   ]
  },
  {
   "cell_type": "code",
   "execution_count": 37,
   "id": "da0c00cc-ee54-4dea-a9b5-007888b5bd6c",
   "metadata": {},
   "outputs": [
    {
     "data": {
      "text/html": [
       "<div>\n",
       "<style scoped>\n",
       "    .dataframe tbody tr th:only-of-type {\n",
       "        vertical-align: middle;\n",
       "    }\n",
       "\n",
       "    .dataframe tbody tr th {\n",
       "        vertical-align: top;\n",
       "    }\n",
       "\n",
       "    .dataframe thead th {\n",
       "        text-align: right;\n",
       "    }\n",
       "</style>\n",
       "<table border=\"1\" class=\"dataframe\">\n",
       "  <thead>\n",
       "    <tr style=\"text-align: right;\">\n",
       "      <th></th>\n",
       "      <th>0</th>\n",
       "      <th>1</th>\n",
       "      <th>2</th>\n",
       "      <th>3</th>\n",
       "      <th>4</th>\n",
       "      <th>5</th>\n",
       "      <th>6</th>\n",
       "    </tr>\n",
       "  </thead>\n",
       "  <tbody>\n",
       "    <tr>\n",
       "      <th>0</th>\n",
       "      <td>Bread</td>\n",
       "      <td>Wine</td>\n",
       "      <td>Eggs</td>\n",
       "      <td>Meat</td>\n",
       "      <td>Cheese</td>\n",
       "      <td>Pencil</td>\n",
       "      <td>Diaper</td>\n",
       "    </tr>\n",
       "    <tr>\n",
       "      <th>1</th>\n",
       "      <td>Bread</td>\n",
       "      <td>Cheese</td>\n",
       "      <td>Meat</td>\n",
       "      <td>Diaper</td>\n",
       "      <td>Wine</td>\n",
       "      <td>Milk</td>\n",
       "      <td>Pencil</td>\n",
       "    </tr>\n",
       "    <tr>\n",
       "      <th>2</th>\n",
       "      <td>Cheese</td>\n",
       "      <td>Meat</td>\n",
       "      <td>Eggs</td>\n",
       "      <td>Milk</td>\n",
       "      <td>Wine</td>\n",
       "      <td>NaN</td>\n",
       "      <td>NaN</td>\n",
       "    </tr>\n",
       "    <tr>\n",
       "      <th>3</th>\n",
       "      <td>Cheese</td>\n",
       "      <td>Meat</td>\n",
       "      <td>Eggs</td>\n",
       "      <td>Milk</td>\n",
       "      <td>Wine</td>\n",
       "      <td>NaN</td>\n",
       "      <td>NaN</td>\n",
       "    </tr>\n",
       "    <tr>\n",
       "      <th>4</th>\n",
       "      <td>Meat</td>\n",
       "      <td>Pencil</td>\n",
       "      <td>Wine</td>\n",
       "      <td>NaN</td>\n",
       "      <td>NaN</td>\n",
       "      <td>NaN</td>\n",
       "      <td>NaN</td>\n",
       "    </tr>\n",
       "    <tr>\n",
       "      <th>...</th>\n",
       "      <td>...</td>\n",
       "      <td>...</td>\n",
       "      <td>...</td>\n",
       "      <td>...</td>\n",
       "      <td>...</td>\n",
       "      <td>...</td>\n",
       "      <td>...</td>\n",
       "    </tr>\n",
       "    <tr>\n",
       "      <th>310</th>\n",
       "      <td>Bread</td>\n",
       "      <td>Eggs</td>\n",
       "      <td>Cheese</td>\n",
       "      <td>NaN</td>\n",
       "      <td>NaN</td>\n",
       "      <td>NaN</td>\n",
       "      <td>NaN</td>\n",
       "    </tr>\n",
       "    <tr>\n",
       "      <th>311</th>\n",
       "      <td>Meat</td>\n",
       "      <td>Milk</td>\n",
       "      <td>Pencil</td>\n",
       "      <td>NaN</td>\n",
       "      <td>NaN</td>\n",
       "      <td>NaN</td>\n",
       "      <td>NaN</td>\n",
       "    </tr>\n",
       "    <tr>\n",
       "      <th>312</th>\n",
       "      <td>Bread</td>\n",
       "      <td>Cheese</td>\n",
       "      <td>Eggs</td>\n",
       "      <td>Meat</td>\n",
       "      <td>Pencil</td>\n",
       "      <td>Diaper</td>\n",
       "      <td>Wine</td>\n",
       "    </tr>\n",
       "    <tr>\n",
       "      <th>313</th>\n",
       "      <td>Meat</td>\n",
       "      <td>Cheese</td>\n",
       "      <td>NaN</td>\n",
       "      <td>NaN</td>\n",
       "      <td>NaN</td>\n",
       "      <td>NaN</td>\n",
       "      <td>NaN</td>\n",
       "    </tr>\n",
       "    <tr>\n",
       "      <th>314</th>\n",
       "      <td>Eggs</td>\n",
       "      <td>Wine</td>\n",
       "      <td>Bagel</td>\n",
       "      <td>Bread</td>\n",
       "      <td>Meat</td>\n",
       "      <td>NaN</td>\n",
       "      <td>NaN</td>\n",
       "    </tr>\n",
       "  </tbody>\n",
       "</table>\n",
       "<p>315 rows × 7 columns</p>\n",
       "</div>"
      ],
      "text/plain": [
       "          0       1       2       3       4       5       6\n",
       "0     Bread    Wine    Eggs    Meat  Cheese  Pencil  Diaper\n",
       "1     Bread  Cheese    Meat  Diaper    Wine    Milk  Pencil\n",
       "2    Cheese    Meat    Eggs    Milk    Wine     NaN     NaN\n",
       "3    Cheese    Meat    Eggs    Milk    Wine     NaN     NaN\n",
       "4      Meat  Pencil    Wine     NaN     NaN     NaN     NaN\n",
       "..      ...     ...     ...     ...     ...     ...     ...\n",
       "310   Bread    Eggs  Cheese     NaN     NaN     NaN     NaN\n",
       "311    Meat    Milk  Pencil     NaN     NaN     NaN     NaN\n",
       "312   Bread  Cheese    Eggs    Meat  Pencil  Diaper    Wine\n",
       "313    Meat  Cheese     NaN     NaN     NaN     NaN     NaN\n",
       "314    Eggs    Wine   Bagel   Bread    Meat     NaN     NaN\n",
       "\n",
       "[315 rows x 7 columns]"
      ]
     },
     "execution_count": 37,
     "metadata": {},
     "output_type": "execute_result"
    }
   ],
   "source": [
    "J"
   ]
  },
  {
   "cell_type": "code",
   "execution_count": 38,
   "id": "19e483ef-df6d-4b75-8a97-459924061888",
   "metadata": {},
   "outputs": [
    {
     "data": {
      "text/plain": [
       "(315, 7)"
      ]
     },
     "execution_count": 38,
     "metadata": {},
     "output_type": "execute_result"
    }
   ],
   "source": [
    "J.shape"
   ]
  },
  {
   "cell_type": "code",
   "execution_count": 39,
   "id": "cd7666b6-6903-4a50-bcaf-3115214b199c",
   "metadata": {},
   "outputs": [
    {
     "name": "stdout",
     "output_type": "stream",
     "text": [
      "<class 'pandas.core.frame.DataFrame'>\n",
      "RangeIndex: 315 entries, 0 to 314\n",
      "Data columns (total 7 columns):\n",
      " #   Column  Non-Null Count  Dtype \n",
      "---  ------  --------------  ----- \n",
      " 0   0       315 non-null    object\n",
      " 1   1       285 non-null    object\n",
      " 2   2       245 non-null    object\n",
      " 3   3       187 non-null    object\n",
      " 4   4       133 non-null    object\n",
      " 5   5       71 non-null     object\n",
      " 6   6       41 non-null     object\n",
      "dtypes: object(7)\n",
      "memory usage: 17.4+ KB\n"
     ]
    }
   ],
   "source": [
    "J.info()"
   ]
  },
  {
   "cell_type": "markdown",
   "id": "e5450410-22cb-49ed-85d7-ec9fe2879dcb",
   "metadata": {},
   "source": [
    "#### "
   ]
  },
  {
   "cell_type": "code",
   "execution_count": null,
   "id": "7e2f4b04-ec10-4f49-9966-b6c090089627",
   "metadata": {},
   "outputs": [],
   "source": []
  }
 ],
 "metadata": {
  "kernelspec": {
   "display_name": "Python 3 (ipykernel)",
   "language": "python",
   "name": "python3"
  },
  "language_info": {
   "codemirror_mode": {
    "name": "ipython",
    "version": 3
   },
   "file_extension": ".py",
   "mimetype": "text/x-python",
   "name": "python",
   "nbconvert_exporter": "python",
   "pygments_lexer": "ipython3",
   "version": "3.12.4"
  }
 },
 "nbformat": 4,
 "nbformat_minor": 5
}
