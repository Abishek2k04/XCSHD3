{
 "cells": [
  {
   "cell_type": "code",
   "execution_count": 1,
   "id": "8f85c2d8-aec8-4cac-907f-ec51ec34a3d6",
   "metadata": {},
   "outputs": [],
   "source": [
    "import pandas as pd"
   ]
  },
  {
   "cell_type": "code",
   "execution_count": 2,
   "id": "1f34eacb-067d-4a2f-b54e-ea9e8ff6ed98",
   "metadata": {},
   "outputs": [
    {
     "data": {
      "text/plain": [
       "'2.2.2'"
      ]
     },
     "execution_count": 2,
     "metadata": {},
     "output_type": "execute_result"
    }
   ],
   "source": [
    "pd.__version__"
   ]
  },
  {
   "cell_type": "markdown",
   "id": "2837b1fe-1621-44b9-86ec-e0a396faa45d",
   "metadata": {},
   "source": [
    "series is get name with index value\n"
   ]
  },
  {
   "cell_type": "code",
   "execution_count": 3,
   "id": "14093810-3313-45f1-b8a2-c56ea884bd41",
   "metadata": {},
   "outputs": [],
   "source": [
    "a1=pd.Series(['edit','edit','edit','edit','edit','edit','edit','edit','edit','edit','edit','edit'],index=[0,1,2,3,4,5,6,7,8,9,10,11])"
   ]
  },
  {
   "cell_type": "code",
   "execution_count": 4,
   "id": "51f6eb8b-6be6-4438-a252-9c8073184af6",
   "metadata": {},
   "outputs": [
    {
     "data": {
      "text/plain": [
       "0     edit\n",
       "1     edit\n",
       "2     edit\n",
       "3     edit\n",
       "4     edit\n",
       "5     edit\n",
       "6     edit\n",
       "7     edit\n",
       "8     edit\n",
       "9     edit\n",
       "10    edit\n",
       "11    edit\n",
       "dtype: object"
      ]
     },
     "execution_count": 4,
     "metadata": {},
     "output_type": "execute_result"
    }
   ],
   "source": [
    "a1"
   ]
  },
  {
   "cell_type": "markdown",
   "id": "d68c5682-7e96-423b-85c3-9d15bd8961fc",
   "metadata": {},
   "source": [
    "# DATA SET CREATION\n",
    "\n",
    "### nested dictionary"
   ]
  },
  {
   "cell_type": "code",
   "execution_count": 5,
   "id": "bb1caff3-ace4-4425-8fa5-7855b5a6f1c7",
   "metadata": {},
   "outputs": [],
   "source": [
    "season={\"Stu_RegNo\":{1:'nov',2:'dec',3:'jan',4:'feb'},\"dry\":{1:'mar',2:'apr',3:'may',4:'june'},\"rain\":{1:'july',2:'aug',3:'sep',4:'oct'}}"
   ]
  },
  {
   "cell_type": "code",
   "execution_count": 6,
   "id": "51a9d9ab-2f93-489b-8aad-4cd317aa37b1",
   "metadata": {},
   "outputs": [],
   "source": [
    "student={\"Stu_RegNO\":{}}"
   ]
  },
  {
   "cell_type": "markdown",
   "id": "6ffd9c0d-f64c-4e21-bcd8-1aba0ae2f0e5",
   "metadata": {},
   "source": [
    "pd.DataFrame use for convert the data set into dataframe to gain CSV file"
   ]
  },
  {
   "cell_type": "code",
   "execution_count": 7,
   "id": "be412a4e-991f-4fcd-bfae-2375650c1375",
   "metadata": {},
   "outputs": [],
   "source": [
    "d = pd.DataFrame(season,columns=[\"winter\",\"dry\",\"rain\"])"
   ]
  },
  {
   "cell_type": "code",
   "execution_count": 8,
   "id": "341f7a8e-ceac-47e3-bea9-26bee9bfe2b7",
   "metadata": {},
   "outputs": [
    {
     "data": {
      "text/html": [
       "<div>\n",
       "<style scoped>\n",
       "    .dataframe tbody tr th:only-of-type {\n",
       "        vertical-align: middle;\n",
       "    }\n",
       "\n",
       "    .dataframe tbody tr th {\n",
       "        vertical-align: top;\n",
       "    }\n",
       "\n",
       "    .dataframe thead th {\n",
       "        text-align: right;\n",
       "    }\n",
       "</style>\n",
       "<table border=\"1\" class=\"dataframe\">\n",
       "  <thead>\n",
       "    <tr style=\"text-align: right;\">\n",
       "      <th></th>\n",
       "      <th>winter</th>\n",
       "      <th>dry</th>\n",
       "      <th>rain</th>\n",
       "    </tr>\n",
       "  </thead>\n",
       "  <tbody>\n",
       "    <tr>\n",
       "      <th>1</th>\n",
       "      <td>NaN</td>\n",
       "      <td>mar</td>\n",
       "      <td>july</td>\n",
       "    </tr>\n",
       "    <tr>\n",
       "      <th>2</th>\n",
       "      <td>NaN</td>\n",
       "      <td>apr</td>\n",
       "      <td>aug</td>\n",
       "    </tr>\n",
       "    <tr>\n",
       "      <th>3</th>\n",
       "      <td>NaN</td>\n",
       "      <td>may</td>\n",
       "      <td>sep</td>\n",
       "    </tr>\n",
       "    <tr>\n",
       "      <th>4</th>\n",
       "      <td>NaN</td>\n",
       "      <td>june</td>\n",
       "      <td>oct</td>\n",
       "    </tr>\n",
       "  </tbody>\n",
       "</table>\n",
       "</div>"
      ],
      "text/plain": [
       "  winter   dry  rain\n",
       "1    NaN   mar  july\n",
       "2    NaN   apr   aug\n",
       "3    NaN   may   sep\n",
       "4    NaN  june   oct"
      ]
     },
     "execution_count": 8,
     "metadata": {},
     "output_type": "execute_result"
    }
   ],
   "source": [
    "d"
   ]
  },
  {
   "cell_type": "code",
   "execution_count": 12,
   "id": "a6d06a6d-e9cb-4b52-8844-a2f33a71c4a3",
   "metadata": {},
   "outputs": [
    {
     "data": {
      "text/html": [
       "<div>\n",
       "<style scoped>\n",
       "    .dataframe tbody tr th:only-of-type {\n",
       "        vertical-align: middle;\n",
       "    }\n",
       "\n",
       "    .dataframe tbody tr th {\n",
       "        vertical-align: top;\n",
       "    }\n",
       "\n",
       "    .dataframe thead th {\n",
       "        text-align: right;\n",
       "    }\n",
       "</style>\n",
       "<table border=\"1\" class=\"dataframe\">\n",
       "  <thead>\n",
       "    <tr style=\"text-align: right;\">\n",
       "      <th></th>\n",
       "      <th>RegNo</th>\n",
       "      <th>Name</th>\n",
       "    </tr>\n",
       "  </thead>\n",
       "  <tbody>\n",
       "    <tr>\n",
       "      <th>1</th>\n",
       "      <td>122012012778</td>\n",
       "      <td>AbdulRahman S</td>\n",
       "    </tr>\n",
       "    <tr>\n",
       "      <th>2</th>\n",
       "      <td>122011012777</td>\n",
       "      <td>Abinaya R</td>\n",
       "    </tr>\n",
       "    <tr>\n",
       "      <th>3</th>\n",
       "      <td>122011012780</td>\n",
       "      <td>Afreen D</td>\n",
       "    </tr>\n",
       "    <tr>\n",
       "      <th>4</th>\n",
       "      <td>122011012781</td>\n",
       "      <td>Afshal Jashith</td>\n",
       "    </tr>\n",
       "    <tr>\n",
       "      <th>5</th>\n",
       "      <td>122012012781</td>\n",
       "      <td>Anbarasan G</td>\n",
       "    </tr>\n",
       "    <tr>\n",
       "      <th>11</th>\n",
       "      <td>122012012784</td>\n",
       "      <td>Arun Ignasiyasiyas M</td>\n",
       "    </tr>\n",
       "    <tr>\n",
       "      <th>12</th>\n",
       "      <td>122012012786</td>\n",
       "      <td>Ayyappapandi V</td>\n",
       "    </tr>\n",
       "    <tr>\n",
       "      <th>13</th>\n",
       "      <td>122012012787</td>\n",
       "      <td>Bajajee H</td>\n",
       "    </tr>\n",
       "    <tr>\n",
       "      <th>14</th>\n",
       "      <td>122012012788</td>\n",
       "      <td>Balasuriya S</td>\n",
       "    </tr>\n",
       "    <tr>\n",
       "      <th>15</th>\n",
       "      <td>122011012790</td>\n",
       "      <td>Dharshini-p</td>\n",
       "    </tr>\n",
       "    <tr>\n",
       "      <th>16</th>\n",
       "      <td>122011012791</td>\n",
       "      <td>Durga Devi S</td>\n",
       "    </tr>\n",
       "    <tr>\n",
       "      <th>17</th>\n",
       "      <td>122011012792</td>\n",
       "      <td>Elmuki RJ</td>\n",
       "    </tr>\n",
       "    <tr>\n",
       "      <th>18</th>\n",
       "      <td>122012012794</td>\n",
       "      <td>GuruPrasath S B</td>\n",
       "    </tr>\n",
       "    <tr>\n",
       "      <th>19</th>\n",
       "      <td>122012012800</td>\n",
       "      <td>Irfan Ahemed N</td>\n",
       "    </tr>\n",
       "    <tr>\n",
       "      <th>20</th>\n",
       "      <td>122011012801</td>\n",
       "      <td>Jenifer Mary X</td>\n",
       "    </tr>\n",
       "    <tr>\n",
       "      <th>21</th>\n",
       "      <td>122011012803</td>\n",
       "      <td>Kamali M</td>\n",
       "    </tr>\n",
       "    <tr>\n",
       "      <th>22</th>\n",
       "      <td>122012012804</td>\n",
       "      <td>Karthikeyan L</td>\n",
       "    </tr>\n",
       "    <tr>\n",
       "      <th>23</th>\n",
       "      <td>122011012805</td>\n",
       "      <td>Keerthanaa P</td>\n",
       "    </tr>\n",
       "    <tr>\n",
       "      <th>24</th>\n",
       "      <td>122012012813</td>\n",
       "      <td>KubandraGuptha J</td>\n",
       "    </tr>\n",
       "    <tr>\n",
       "      <th>25</th>\n",
       "      <td>122012012808</td>\n",
       "      <td>Maravarman P</td>\n",
       "    </tr>\n",
       "    <tr>\n",
       "      <th>26</th>\n",
       "      <td>122012012813</td>\n",
       "      <td>Mouleeshwaran V A</td>\n",
       "    </tr>\n",
       "  </tbody>\n",
       "</table>\n",
       "</div>"
      ],
      "text/plain": [
       "           RegNo                  Name\n",
       "1   122012012778         AbdulRahman S\n",
       "2   122011012777             Abinaya R\n",
       "3   122011012780              Afreen D\n",
       "4   122011012781        Afshal Jashith\n",
       "5   122012012781           Anbarasan G\n",
       "11  122012012784  Arun Ignasiyasiyas M\n",
       "12  122012012786        Ayyappapandi V\n",
       "13  122012012787             Bajajee H\n",
       "14  122012012788          Balasuriya S\n",
       "15  122011012790           Dharshini-p\n",
       "16  122011012791          Durga Devi S\n",
       "17  122011012792             Elmuki RJ\n",
       "18  122012012794       GuruPrasath S B\n",
       "19  122012012800        Irfan Ahemed N\n",
       "20  122011012801        Jenifer Mary X\n",
       "21  122011012803              Kamali M\n",
       "22  122012012804         Karthikeyan L\n",
       "23  122011012805          Keerthanaa P\n",
       "24  122012012813      KubandraGuptha J\n",
       "25  122012012808          Maravarman P\n",
       "26  122012012813     Mouleeshwaran V A"
      ]
     },
     "execution_count": 12,
     "metadata": {},
     "output_type": "execute_result"
    }
   ],
   "source": [
    "import pandas as pd\n",
    "\n",
    "# Existing student data\n",
    "STU_REGNO = {1: 122012012778, 2: 122011012777, 3: 122011012780, 4: 122011012781, 5: 122012012781}\n",
    "STU_NAME = {1: 'AbdulRahman S', 2: 'Abinaya R', 3: 'Afreen D', 4: 'Afshal Jashith', 5: 'Anbarasan G'}\n",
    "\n",
    "# New students data\n",
    "new_students = {\n",
    "    6: (122012012784, 'Arun Ignasiyasiyas M'),\n",
    "    7: (122012012786, 'Ayyappapandi V'),\n",
    "    8: (122012012787, 'Bajajee H'),\n",
    "    9: (122012012788, 'Balasuriya S'),\n",
    "    10: (122011012790, 'Dharshini-p'),\n",
    "    11: (122011012791, 'Durga Devi S'),\n",
    "    12: (122011012792, 'Elmuki RJ' ),\n",
    "    13: (122012012794, 'GuruPrasath S B'),\n",
    "    14: (122012012800, 'Irfan Ahemed N'),\n",
    "    15: (122011012801, 'Jenifer Mary X'),\n",
    "    16: (122011012803, 'Kamali M',),\n",
    "    17: (122012012804, 'Karthikeyan L',),\n",
    "    18: (122011012805, 'Keerthanaa P',),\n",
    "    19: (122012012813, 'KubandraGuptha J'),\n",
    "    20: (122012012808, 'Maravarman P',),\n",
    "    21: (122012012813, 'Mouleeshwaran V A',)\n",
    "}\n",
    "\n",
    "# Update the original dictionaries\n",
    "for key, (regno, name) in new_students.items():\n",
    "    STU_REGNO[key + 5] = regno\n",
    "    STU_NAME[key + 5] = name\n",
    "# Combine into a DataFrame\n",
    "df = pd.DataFrame({\n",
    "    'RegNo': STU_REGNO,\n",
    "    'Name': STU_NAME,\n",
    "})\n",
    "df"
   ]
  },
  {
   "cell_type": "code",
   "execution_count": 15,
   "id": "f803cb6b-9837-4291-94d3-016430767f20",
   "metadata": {},
   "outputs": [],
   "source": [
    "df.to_csv('C:/Users/abishek/Desktop/student1.csv', index=False)"
   ]
  },
  {
   "cell_type": "code",
   "execution_count": 19,
   "id": "53d907a2-d29a-4b94-9e59-e4664d1f6371",
   "metadata": {},
   "outputs": [],
   "source": [
    "gg=pd.read_csv('C:/Users/abishek/Desktop/student1.csv')"
   ]
  },
  {
   "cell_type": "code",
   "execution_count": 20,
   "id": "3aa7f6b2-7411-49b2-9939-c5d879f57a50",
   "metadata": {},
   "outputs": [
    {
     "data": {
      "text/html": [
       "<div>\n",
       "<style scoped>\n",
       "    .dataframe tbody tr th:only-of-type {\n",
       "        vertical-align: middle;\n",
       "    }\n",
       "\n",
       "    .dataframe tbody tr th {\n",
       "        vertical-align: top;\n",
       "    }\n",
       "\n",
       "    .dataframe thead th {\n",
       "        text-align: right;\n",
       "    }\n",
       "</style>\n",
       "<table border=\"1\" class=\"dataframe\">\n",
       "  <thead>\n",
       "    <tr style=\"text-align: right;\">\n",
       "      <th></th>\n",
       "      <th>RegNo</th>\n",
       "      <th>Name</th>\n",
       "    </tr>\n",
       "  </thead>\n",
       "  <tbody>\n",
       "    <tr>\n",
       "      <th>0</th>\n",
       "      <td>122012012778</td>\n",
       "      <td>AbdulRahman S</td>\n",
       "    </tr>\n",
       "    <tr>\n",
       "      <th>1</th>\n",
       "      <td>122011012777</td>\n",
       "      <td>Abinaya R</td>\n",
       "    </tr>\n",
       "    <tr>\n",
       "      <th>2</th>\n",
       "      <td>122011012780</td>\n",
       "      <td>Afreen D</td>\n",
       "    </tr>\n",
       "    <tr>\n",
       "      <th>3</th>\n",
       "      <td>122011012781</td>\n",
       "      <td>Afshal Jashith</td>\n",
       "    </tr>\n",
       "    <tr>\n",
       "      <th>4</th>\n",
       "      <td>122012012781</td>\n",
       "      <td>Anbarasan G</td>\n",
       "    </tr>\n",
       "    <tr>\n",
       "      <th>5</th>\n",
       "      <td>122012012784</td>\n",
       "      <td>Arun Ignasiyasiyas M</td>\n",
       "    </tr>\n",
       "    <tr>\n",
       "      <th>6</th>\n",
       "      <td>122012012786</td>\n",
       "      <td>Ayyappapandi V</td>\n",
       "    </tr>\n",
       "    <tr>\n",
       "      <th>7</th>\n",
       "      <td>122012012787</td>\n",
       "      <td>Bajajee H</td>\n",
       "    </tr>\n",
       "    <tr>\n",
       "      <th>8</th>\n",
       "      <td>122012012788</td>\n",
       "      <td>Balasuriya S</td>\n",
       "    </tr>\n",
       "    <tr>\n",
       "      <th>9</th>\n",
       "      <td>122011012790</td>\n",
       "      <td>Dharshini-p</td>\n",
       "    </tr>\n",
       "    <tr>\n",
       "      <th>10</th>\n",
       "      <td>122011012791</td>\n",
       "      <td>Durga Devi S</td>\n",
       "    </tr>\n",
       "    <tr>\n",
       "      <th>11</th>\n",
       "      <td>122011012792</td>\n",
       "      <td>Elmuki RJ</td>\n",
       "    </tr>\n",
       "    <tr>\n",
       "      <th>12</th>\n",
       "      <td>122012012794</td>\n",
       "      <td>GuruPrasath S B</td>\n",
       "    </tr>\n",
       "    <tr>\n",
       "      <th>13</th>\n",
       "      <td>122012012800</td>\n",
       "      <td>Irfan Ahemed N</td>\n",
       "    </tr>\n",
       "    <tr>\n",
       "      <th>14</th>\n",
       "      <td>122011012801</td>\n",
       "      <td>Jenifer Mary X</td>\n",
       "    </tr>\n",
       "    <tr>\n",
       "      <th>15</th>\n",
       "      <td>122011012803</td>\n",
       "      <td>Kamali M</td>\n",
       "    </tr>\n",
       "    <tr>\n",
       "      <th>16</th>\n",
       "      <td>122012012804</td>\n",
       "      <td>Karthikeyan L</td>\n",
       "    </tr>\n",
       "    <tr>\n",
       "      <th>17</th>\n",
       "      <td>122011012805</td>\n",
       "      <td>Keerthanaa P</td>\n",
       "    </tr>\n",
       "    <tr>\n",
       "      <th>18</th>\n",
       "      <td>122012012813</td>\n",
       "      <td>KubandraGuptha J</td>\n",
       "    </tr>\n",
       "    <tr>\n",
       "      <th>19</th>\n",
       "      <td>122012012808</td>\n",
       "      <td>Maravarman P</td>\n",
       "    </tr>\n",
       "    <tr>\n",
       "      <th>20</th>\n",
       "      <td>122012012813</td>\n",
       "      <td>Mouleeshwaran V A</td>\n",
       "    </tr>\n",
       "  </tbody>\n",
       "</table>\n",
       "</div>"
      ],
      "text/plain": [
       "           RegNo                  Name\n",
       "0   122012012778         AbdulRahman S\n",
       "1   122011012777             Abinaya R\n",
       "2   122011012780              Afreen D\n",
       "3   122011012781        Afshal Jashith\n",
       "4   122012012781           Anbarasan G\n",
       "5   122012012784  Arun Ignasiyasiyas M\n",
       "6   122012012786        Ayyappapandi V\n",
       "7   122012012787             Bajajee H\n",
       "8   122012012788          Balasuriya S\n",
       "9   122011012790           Dharshini-p\n",
       "10  122011012791          Durga Devi S\n",
       "11  122011012792             Elmuki RJ\n",
       "12  122012012794       GuruPrasath S B\n",
       "13  122012012800        Irfan Ahemed N\n",
       "14  122011012801        Jenifer Mary X\n",
       "15  122011012803              Kamali M\n",
       "16  122012012804         Karthikeyan L\n",
       "17  122011012805          Keerthanaa P\n",
       "18  122012012813      KubandraGuptha J\n",
       "19  122012012808          Maravarman P\n",
       "20  122012012813     Mouleeshwaran V A"
      ]
     },
     "execution_count": 20,
     "metadata": {},
     "output_type": "execute_result"
    }
   ],
   "source": [
    "gg"
   ]
  },
  {
   "cell_type": "code",
   "execution_count": 21,
   "id": "fbe35081-7537-47bc-bf3e-7a8bd440a0e5",
   "metadata": {},
   "outputs": [],
   "source": [
    "import numpy as np"
   ]
  },
  {
   "cell_type": "markdown",
   "id": "21c390a1-2580-409f-854d-8c2ed196785e",
   "metadata": {},
   "source": [
    "np.random.randint use for generate random number with (0,1 for range of number),(size=(10,4)10 = rows,4 = columns),(column=list('abcd')abcd = column names)"
   ]
  },
  {
   "cell_type": "code",
   "execution_count": 22,
   "id": "f86c26c0-ff76-4721-99c7-d00f0c6b6ff0",
   "metadata": {},
   "outputs": [],
   "source": [
    "kd=pd.DataFrame(np.random.randint(0,1,size=(65,4)),columns = list('abcd'))"
   ]
  },
  {
   "cell_type": "code",
   "execution_count": 23,
   "id": "dbefb976-e597-4be4-8bcc-5089c5ff4292",
   "metadata": {},
   "outputs": [
    {
     "data": {
      "text/html": [
       "<div>\n",
       "<style scoped>\n",
       "    .dataframe tbody tr th:only-of-type {\n",
       "        vertical-align: middle;\n",
       "    }\n",
       "\n",
       "    .dataframe tbody tr th {\n",
       "        vertical-align: top;\n",
       "    }\n",
       "\n",
       "    .dataframe thead th {\n",
       "        text-align: right;\n",
       "    }\n",
       "</style>\n",
       "<table border=\"1\" class=\"dataframe\">\n",
       "  <thead>\n",
       "    <tr style=\"text-align: right;\">\n",
       "      <th></th>\n",
       "      <th>a</th>\n",
       "      <th>b</th>\n",
       "      <th>c</th>\n",
       "      <th>d</th>\n",
       "    </tr>\n",
       "  </thead>\n",
       "  <tbody>\n",
       "    <tr>\n",
       "      <th>0</th>\n",
       "      <td>0</td>\n",
       "      <td>0</td>\n",
       "      <td>0</td>\n",
       "      <td>0</td>\n",
       "    </tr>\n",
       "    <tr>\n",
       "      <th>1</th>\n",
       "      <td>0</td>\n",
       "      <td>0</td>\n",
       "      <td>0</td>\n",
       "      <td>0</td>\n",
       "    </tr>\n",
       "    <tr>\n",
       "      <th>2</th>\n",
       "      <td>0</td>\n",
       "      <td>0</td>\n",
       "      <td>0</td>\n",
       "      <td>0</td>\n",
       "    </tr>\n",
       "    <tr>\n",
       "      <th>3</th>\n",
       "      <td>0</td>\n",
       "      <td>0</td>\n",
       "      <td>0</td>\n",
       "      <td>0</td>\n",
       "    </tr>\n",
       "    <tr>\n",
       "      <th>4</th>\n",
       "      <td>0</td>\n",
       "      <td>0</td>\n",
       "      <td>0</td>\n",
       "      <td>0</td>\n",
       "    </tr>\n",
       "    <tr>\n",
       "      <th>...</th>\n",
       "      <td>...</td>\n",
       "      <td>...</td>\n",
       "      <td>...</td>\n",
       "      <td>...</td>\n",
       "    </tr>\n",
       "    <tr>\n",
       "      <th>60</th>\n",
       "      <td>0</td>\n",
       "      <td>0</td>\n",
       "      <td>0</td>\n",
       "      <td>0</td>\n",
       "    </tr>\n",
       "    <tr>\n",
       "      <th>61</th>\n",
       "      <td>0</td>\n",
       "      <td>0</td>\n",
       "      <td>0</td>\n",
       "      <td>0</td>\n",
       "    </tr>\n",
       "    <tr>\n",
       "      <th>62</th>\n",
       "      <td>0</td>\n",
       "      <td>0</td>\n",
       "      <td>0</td>\n",
       "      <td>0</td>\n",
       "    </tr>\n",
       "    <tr>\n",
       "      <th>63</th>\n",
       "      <td>0</td>\n",
       "      <td>0</td>\n",
       "      <td>0</td>\n",
       "      <td>0</td>\n",
       "    </tr>\n",
       "    <tr>\n",
       "      <th>64</th>\n",
       "      <td>0</td>\n",
       "      <td>0</td>\n",
       "      <td>0</td>\n",
       "      <td>0</td>\n",
       "    </tr>\n",
       "  </tbody>\n",
       "</table>\n",
       "<p>65 rows × 4 columns</p>\n",
       "</div>"
      ],
      "text/plain": [
       "    a  b  c  d\n",
       "0   0  0  0  0\n",
       "1   0  0  0  0\n",
       "2   0  0  0  0\n",
       "3   0  0  0  0\n",
       "4   0  0  0  0\n",
       ".. .. .. .. ..\n",
       "60  0  0  0  0\n",
       "61  0  0  0  0\n",
       "62  0  0  0  0\n",
       "63  0  0  0  0\n",
       "64  0  0  0  0\n",
       "\n",
       "[65 rows x 4 columns]"
      ]
     },
     "execution_count": 23,
     "metadata": {},
     "output_type": "execute_result"
    }
   ],
   "source": [
    "kd"
   ]
  },
  {
   "cell_type": "markdown",
   "id": "358e7713-a94c-46fe-8bef-52516d524b42",
   "metadata": {},
   "source": [
    "## Export as CSV"
   ]
  },
  {
   "cell_type": "markdown",
   "id": "dd38d00c-4b33-4f53-a773-bdbc489cea38",
   "metadata": {},
   "source": [
    "to_csv function use for export csv file \n"
   ]
  },
  {
   "cell_type": "code",
   "execution_count": 24,
   "id": "5aa9776c-2ccd-4f36-a361-b730f73b01ca",
   "metadata": {},
   "outputs": [
    {
     "ename": "NameError",
     "evalue": "name 'dd' is not defined",
     "output_type": "error",
     "traceback": [
      "\u001b[1;31m---------------------------------------------------------------------------\u001b[0m",
      "\u001b[1;31mNameError\u001b[0m                                 Traceback (most recent call last)",
      "Cell \u001b[1;32mIn[24], line 1\u001b[0m\n\u001b[1;32m----> 1\u001b[0m dd\u001b[38;5;241m.\u001b[39mto_csv(\u001b[38;5;124m'\u001b[39m\u001b[38;5;124mC:/Users/abishek/Desktop/laptop.csv\u001b[39m\u001b[38;5;124m'\u001b[39m)\n",
      "\u001b[1;31mNameError\u001b[0m: name 'dd' is not defined"
     ]
    }
   ],
   "source": [
    "dd.to_csv('C:/Users/abishek/Desktop/laptop.csv')"
   ]
  },
  {
   "cell_type": "markdown",
   "id": "536c9bf2-c60a-41c4-b4b4-14970558b58c",
   "metadata": {},
   "source": [
    "read_csv use for read exiting csv file in local storage or if need to read excel file use xlrd library to inpported and use read_excel instead of read_csv"
   ]
  },
  {
   "cell_type": "code",
   "execution_count": 31,
   "id": "868bf34b-6328-4f83-94e7-735aa6e0576a",
   "metadata": {},
   "outputs": [
    {
     "ename": "FileNotFoundError",
     "evalue": "[Errno 2] No such file or directory: 'C:/Users/abishek/Desktop/laptop.csv'",
     "output_type": "error",
     "traceback": [
      "\u001b[1;31m---------------------------------------------------------------------------\u001b[0m",
      "\u001b[1;31mFileNotFoundError\u001b[0m                         Traceback (most recent call last)",
      "Cell \u001b[1;32mIn[31], line 1\u001b[0m\n\u001b[1;32m----> 1\u001b[0m d \u001b[38;5;241m=\u001b[39m pd\u001b[38;5;241m.\u001b[39mread_csv(\u001b[38;5;124m'\u001b[39m\u001b[38;5;124mC:/Users/abishek/Desktop/laptop.csv\u001b[39m\u001b[38;5;124m'\u001b[39m)\n",
      "File \u001b[1;32m~\\anaconda3\\envs\\Abishek\\Lib\\site-packages\\pandas\\io\\parsers\\readers.py:1026\u001b[0m, in \u001b[0;36mread_csv\u001b[1;34m(filepath_or_buffer, sep, delimiter, header, names, index_col, usecols, dtype, engine, converters, true_values, false_values, skipinitialspace, skiprows, skipfooter, nrows, na_values, keep_default_na, na_filter, verbose, skip_blank_lines, parse_dates, infer_datetime_format, keep_date_col, date_parser, date_format, dayfirst, cache_dates, iterator, chunksize, compression, thousands, decimal, lineterminator, quotechar, quoting, doublequote, escapechar, comment, encoding, encoding_errors, dialect, on_bad_lines, delim_whitespace, low_memory, memory_map, float_precision, storage_options, dtype_backend)\u001b[0m\n\u001b[0;32m   1013\u001b[0m kwds_defaults \u001b[38;5;241m=\u001b[39m _refine_defaults_read(\n\u001b[0;32m   1014\u001b[0m     dialect,\n\u001b[0;32m   1015\u001b[0m     delimiter,\n\u001b[1;32m   (...)\u001b[0m\n\u001b[0;32m   1022\u001b[0m     dtype_backend\u001b[38;5;241m=\u001b[39mdtype_backend,\n\u001b[0;32m   1023\u001b[0m )\n\u001b[0;32m   1024\u001b[0m kwds\u001b[38;5;241m.\u001b[39mupdate(kwds_defaults)\n\u001b[1;32m-> 1026\u001b[0m \u001b[38;5;28;01mreturn\u001b[39;00m _read(filepath_or_buffer, kwds)\n",
      "File \u001b[1;32m~\\anaconda3\\envs\\Abishek\\Lib\\site-packages\\pandas\\io\\parsers\\readers.py:620\u001b[0m, in \u001b[0;36m_read\u001b[1;34m(filepath_or_buffer, kwds)\u001b[0m\n\u001b[0;32m    617\u001b[0m _validate_names(kwds\u001b[38;5;241m.\u001b[39mget(\u001b[38;5;124m\"\u001b[39m\u001b[38;5;124mnames\u001b[39m\u001b[38;5;124m\"\u001b[39m, \u001b[38;5;28;01mNone\u001b[39;00m))\n\u001b[0;32m    619\u001b[0m \u001b[38;5;66;03m# Create the parser.\u001b[39;00m\n\u001b[1;32m--> 620\u001b[0m parser \u001b[38;5;241m=\u001b[39m TextFileReader(filepath_or_buffer, \u001b[38;5;241m*\u001b[39m\u001b[38;5;241m*\u001b[39mkwds)\n\u001b[0;32m    622\u001b[0m \u001b[38;5;28;01mif\u001b[39;00m chunksize \u001b[38;5;129;01mor\u001b[39;00m iterator:\n\u001b[0;32m    623\u001b[0m     \u001b[38;5;28;01mreturn\u001b[39;00m parser\n",
      "File \u001b[1;32m~\\anaconda3\\envs\\Abishek\\Lib\\site-packages\\pandas\\io\\parsers\\readers.py:1620\u001b[0m, in \u001b[0;36mTextFileReader.__init__\u001b[1;34m(self, f, engine, **kwds)\u001b[0m\n\u001b[0;32m   1617\u001b[0m     \u001b[38;5;28mself\u001b[39m\u001b[38;5;241m.\u001b[39moptions[\u001b[38;5;124m\"\u001b[39m\u001b[38;5;124mhas_index_names\u001b[39m\u001b[38;5;124m\"\u001b[39m] \u001b[38;5;241m=\u001b[39m kwds[\u001b[38;5;124m\"\u001b[39m\u001b[38;5;124mhas_index_names\u001b[39m\u001b[38;5;124m\"\u001b[39m]\n\u001b[0;32m   1619\u001b[0m \u001b[38;5;28mself\u001b[39m\u001b[38;5;241m.\u001b[39mhandles: IOHandles \u001b[38;5;241m|\u001b[39m \u001b[38;5;28;01mNone\u001b[39;00m \u001b[38;5;241m=\u001b[39m \u001b[38;5;28;01mNone\u001b[39;00m\n\u001b[1;32m-> 1620\u001b[0m \u001b[38;5;28mself\u001b[39m\u001b[38;5;241m.\u001b[39m_engine \u001b[38;5;241m=\u001b[39m \u001b[38;5;28mself\u001b[39m\u001b[38;5;241m.\u001b[39m_make_engine(f, \u001b[38;5;28mself\u001b[39m\u001b[38;5;241m.\u001b[39mengine)\n",
      "File \u001b[1;32m~\\anaconda3\\envs\\Abishek\\Lib\\site-packages\\pandas\\io\\parsers\\readers.py:1880\u001b[0m, in \u001b[0;36mTextFileReader._make_engine\u001b[1;34m(self, f, engine)\u001b[0m\n\u001b[0;32m   1878\u001b[0m     \u001b[38;5;28;01mif\u001b[39;00m \u001b[38;5;124m\"\u001b[39m\u001b[38;5;124mb\u001b[39m\u001b[38;5;124m\"\u001b[39m \u001b[38;5;129;01mnot\u001b[39;00m \u001b[38;5;129;01min\u001b[39;00m mode:\n\u001b[0;32m   1879\u001b[0m         mode \u001b[38;5;241m+\u001b[39m\u001b[38;5;241m=\u001b[39m \u001b[38;5;124m\"\u001b[39m\u001b[38;5;124mb\u001b[39m\u001b[38;5;124m\"\u001b[39m\n\u001b[1;32m-> 1880\u001b[0m \u001b[38;5;28mself\u001b[39m\u001b[38;5;241m.\u001b[39mhandles \u001b[38;5;241m=\u001b[39m get_handle(\n\u001b[0;32m   1881\u001b[0m     f,\n\u001b[0;32m   1882\u001b[0m     mode,\n\u001b[0;32m   1883\u001b[0m     encoding\u001b[38;5;241m=\u001b[39m\u001b[38;5;28mself\u001b[39m\u001b[38;5;241m.\u001b[39moptions\u001b[38;5;241m.\u001b[39mget(\u001b[38;5;124m\"\u001b[39m\u001b[38;5;124mencoding\u001b[39m\u001b[38;5;124m\"\u001b[39m, \u001b[38;5;28;01mNone\u001b[39;00m),\n\u001b[0;32m   1884\u001b[0m     compression\u001b[38;5;241m=\u001b[39m\u001b[38;5;28mself\u001b[39m\u001b[38;5;241m.\u001b[39moptions\u001b[38;5;241m.\u001b[39mget(\u001b[38;5;124m\"\u001b[39m\u001b[38;5;124mcompression\u001b[39m\u001b[38;5;124m\"\u001b[39m, \u001b[38;5;28;01mNone\u001b[39;00m),\n\u001b[0;32m   1885\u001b[0m     memory_map\u001b[38;5;241m=\u001b[39m\u001b[38;5;28mself\u001b[39m\u001b[38;5;241m.\u001b[39moptions\u001b[38;5;241m.\u001b[39mget(\u001b[38;5;124m\"\u001b[39m\u001b[38;5;124mmemory_map\u001b[39m\u001b[38;5;124m\"\u001b[39m, \u001b[38;5;28;01mFalse\u001b[39;00m),\n\u001b[0;32m   1886\u001b[0m     is_text\u001b[38;5;241m=\u001b[39mis_text,\n\u001b[0;32m   1887\u001b[0m     errors\u001b[38;5;241m=\u001b[39m\u001b[38;5;28mself\u001b[39m\u001b[38;5;241m.\u001b[39moptions\u001b[38;5;241m.\u001b[39mget(\u001b[38;5;124m\"\u001b[39m\u001b[38;5;124mencoding_errors\u001b[39m\u001b[38;5;124m\"\u001b[39m, \u001b[38;5;124m\"\u001b[39m\u001b[38;5;124mstrict\u001b[39m\u001b[38;5;124m\"\u001b[39m),\n\u001b[0;32m   1888\u001b[0m     storage_options\u001b[38;5;241m=\u001b[39m\u001b[38;5;28mself\u001b[39m\u001b[38;5;241m.\u001b[39moptions\u001b[38;5;241m.\u001b[39mget(\u001b[38;5;124m\"\u001b[39m\u001b[38;5;124mstorage_options\u001b[39m\u001b[38;5;124m\"\u001b[39m, \u001b[38;5;28;01mNone\u001b[39;00m),\n\u001b[0;32m   1889\u001b[0m )\n\u001b[0;32m   1890\u001b[0m \u001b[38;5;28;01massert\u001b[39;00m \u001b[38;5;28mself\u001b[39m\u001b[38;5;241m.\u001b[39mhandles \u001b[38;5;129;01mis\u001b[39;00m \u001b[38;5;129;01mnot\u001b[39;00m \u001b[38;5;28;01mNone\u001b[39;00m\n\u001b[0;32m   1891\u001b[0m f \u001b[38;5;241m=\u001b[39m \u001b[38;5;28mself\u001b[39m\u001b[38;5;241m.\u001b[39mhandles\u001b[38;5;241m.\u001b[39mhandle\n",
      "File \u001b[1;32m~\\anaconda3\\envs\\Abishek\\Lib\\site-packages\\pandas\\io\\common.py:873\u001b[0m, in \u001b[0;36mget_handle\u001b[1;34m(path_or_buf, mode, encoding, compression, memory_map, is_text, errors, storage_options)\u001b[0m\n\u001b[0;32m    868\u001b[0m \u001b[38;5;28;01melif\u001b[39;00m \u001b[38;5;28misinstance\u001b[39m(handle, \u001b[38;5;28mstr\u001b[39m):\n\u001b[0;32m    869\u001b[0m     \u001b[38;5;66;03m# Check whether the filename is to be opened in binary mode.\u001b[39;00m\n\u001b[0;32m    870\u001b[0m     \u001b[38;5;66;03m# Binary mode does not support 'encoding' and 'newline'.\u001b[39;00m\n\u001b[0;32m    871\u001b[0m     \u001b[38;5;28;01mif\u001b[39;00m ioargs\u001b[38;5;241m.\u001b[39mencoding \u001b[38;5;129;01mand\u001b[39;00m \u001b[38;5;124m\"\u001b[39m\u001b[38;5;124mb\u001b[39m\u001b[38;5;124m\"\u001b[39m \u001b[38;5;129;01mnot\u001b[39;00m \u001b[38;5;129;01min\u001b[39;00m ioargs\u001b[38;5;241m.\u001b[39mmode:\n\u001b[0;32m    872\u001b[0m         \u001b[38;5;66;03m# Encoding\u001b[39;00m\n\u001b[1;32m--> 873\u001b[0m         handle \u001b[38;5;241m=\u001b[39m \u001b[38;5;28mopen\u001b[39m(\n\u001b[0;32m    874\u001b[0m             handle,\n\u001b[0;32m    875\u001b[0m             ioargs\u001b[38;5;241m.\u001b[39mmode,\n\u001b[0;32m    876\u001b[0m             encoding\u001b[38;5;241m=\u001b[39mioargs\u001b[38;5;241m.\u001b[39mencoding,\n\u001b[0;32m    877\u001b[0m             errors\u001b[38;5;241m=\u001b[39merrors,\n\u001b[0;32m    878\u001b[0m             newline\u001b[38;5;241m=\u001b[39m\u001b[38;5;124m\"\u001b[39m\u001b[38;5;124m\"\u001b[39m,\n\u001b[0;32m    879\u001b[0m         )\n\u001b[0;32m    880\u001b[0m     \u001b[38;5;28;01melse\u001b[39;00m:\n\u001b[0;32m    881\u001b[0m         \u001b[38;5;66;03m# Binary mode\u001b[39;00m\n\u001b[0;32m    882\u001b[0m         handle \u001b[38;5;241m=\u001b[39m \u001b[38;5;28mopen\u001b[39m(handle, ioargs\u001b[38;5;241m.\u001b[39mmode)\n",
      "\u001b[1;31mFileNotFoundError\u001b[0m: [Errno 2] No such file or directory: 'C:/Users/abishek/Desktop/laptop.csv'"
     ]
    }
   ],
   "source": [
    "d = pd.read_csv('C:/Users/abishek/Desktop/laptop.csv')"
   ]
  },
  {
   "cell_type": "code",
   "execution_count": 16,
   "id": "000022c4-93e4-4a8a-a80e-9d7e464e5212",
   "metadata": {},
   "outputs": [
    {
     "data": {
      "text/html": [
       "<div>\n",
       "<style scoped>\n",
       "    .dataframe tbody tr th:only-of-type {\n",
       "        vertical-align: middle;\n",
       "    }\n",
       "\n",
       "    .dataframe tbody tr th {\n",
       "        vertical-align: top;\n",
       "    }\n",
       "\n",
       "    .dataframe thead th {\n",
       "        text-align: right;\n",
       "    }\n",
       "</style>\n",
       "<table border=\"1\" class=\"dataframe\">\n",
       "  <thead>\n",
       "    <tr style=\"text-align: right;\">\n",
       "      <th></th>\n",
       "      <th>Unnamed: 0</th>\n",
       "      <th>ASUS</th>\n",
       "      <th>ACER</th>\n",
       "      <th>HP</th>\n",
       "      <th>DELL</th>\n",
       "      <th>LENOVO</th>\n",
       "    </tr>\n",
       "  </thead>\n",
       "  <tbody>\n",
       "    <tr>\n",
       "      <th>0</th>\n",
       "      <td>1</td>\n",
       "      <td>TUF</td>\n",
       "      <td>NITRO_5</td>\n",
       "      <td>ENVY</td>\n",
       "      <td>LATITUDE</td>\n",
       "      <td>LOQ</td>\n",
       "    </tr>\n",
       "    <tr>\n",
       "      <th>1</th>\n",
       "      <td>2</td>\n",
       "      <td>VIVO BOOK</td>\n",
       "      <td>Chromebook Plus 15</td>\n",
       "      <td>VICTUS</td>\n",
       "      <td>ALIENWARE</td>\n",
       "      <td>YOGA SLIM</td>\n",
       "    </tr>\n",
       "    <tr>\n",
       "      <th>2</th>\n",
       "      <td>3</td>\n",
       "      <td>ZEN BOOK</td>\n",
       "      <td>ALG</td>\n",
       "      <td>SPECTRE</td>\n",
       "      <td>INSPIRON</td>\n",
       "      <td>THINKPAD</td>\n",
       "    </tr>\n",
       "    <tr>\n",
       "      <th>3</th>\n",
       "      <td>4</td>\n",
       "      <td>CHOROME BOOK</td>\n",
       "      <td>PREDATOR</td>\n",
       "      <td>PAVILLION</td>\n",
       "      <td>XPS</td>\n",
       "      <td>IDEAPAD</td>\n",
       "    </tr>\n",
       "    <tr>\n",
       "      <th>4</th>\n",
       "      <td>5</td>\n",
       "      <td>ROG</td>\n",
       "      <td>DUMMY</td>\n",
       "      <td>OMEN</td>\n",
       "      <td>NaN</td>\n",
       "      <td>LEGION</td>\n",
       "    </tr>\n",
       "  </tbody>\n",
       "</table>\n",
       "</div>"
      ],
      "text/plain": [
       "   Unnamed: 0          ASUS                ACER         HP       DELL  \\\n",
       "0           1           TUF             NITRO_5       ENVY   LATITUDE   \n",
       "1           2     VIVO BOOK  Chromebook Plus 15     VICTUS  ALIENWARE   \n",
       "2           3      ZEN BOOK                 ALG    SPECTRE   INSPIRON   \n",
       "3           4  CHOROME BOOK            PREDATOR  PAVILLION        XPS   \n",
       "4           5           ROG               DUMMY       OMEN        NaN   \n",
       "\n",
       "      LENOVO  \n",
       "0        LOQ  \n",
       "1  YOGA SLIM  \n",
       "2   THINKPAD  \n",
       "3    IDEAPAD  \n",
       "4     LEGION  "
      ]
     },
     "execution_count": 16,
     "metadata": {},
     "output_type": "execute_result"
    }
   ],
   "source": [
    "d"
   ]
  },
  {
   "cell_type": "markdown",
   "id": "26f47a1e-5108-4df9-b36c-25a8dab852c3",
   "metadata": {},
   "source": [
    "### Drop Column In CSV"
   ]
  },
  {
   "cell_type": "markdown",
   "id": "f5c360b4-6431-4244-a358-f2898b4a0da5",
   "metadata": {},
   "source": [
    "drop function use for drop particular column to be removed!"
   ]
  },
  {
   "cell_type": "code",
   "execution_count": 17,
   "id": "36d08b73-ca0c-4304-9a92-489cb9bb1f3f",
   "metadata": {},
   "outputs": [
    {
     "data": {
      "text/html": [
       "<div>\n",
       "<style scoped>\n",
       "    .dataframe tbody tr th:only-of-type {\n",
       "        vertical-align: middle;\n",
       "    }\n",
       "\n",
       "    .dataframe tbody tr th {\n",
       "        vertical-align: top;\n",
       "    }\n",
       "\n",
       "    .dataframe thead th {\n",
       "        text-align: right;\n",
       "    }\n",
       "</style>\n",
       "<table border=\"1\" class=\"dataframe\">\n",
       "  <thead>\n",
       "    <tr style=\"text-align: right;\">\n",
       "      <th></th>\n",
       "      <th>Unnamed: 0</th>\n",
       "      <th>ASUS</th>\n",
       "      <th>ACER</th>\n",
       "      <th>DELL</th>\n",
       "      <th>LENOVO</th>\n",
       "    </tr>\n",
       "  </thead>\n",
       "  <tbody>\n",
       "    <tr>\n",
       "      <th>0</th>\n",
       "      <td>1</td>\n",
       "      <td>TUF</td>\n",
       "      <td>NITRO_5</td>\n",
       "      <td>LATITUDE</td>\n",
       "      <td>LOQ</td>\n",
       "    </tr>\n",
       "    <tr>\n",
       "      <th>1</th>\n",
       "      <td>2</td>\n",
       "      <td>VIVO BOOK</td>\n",
       "      <td>Chromebook Plus 15</td>\n",
       "      <td>ALIENWARE</td>\n",
       "      <td>YOGA SLIM</td>\n",
       "    </tr>\n",
       "    <tr>\n",
       "      <th>2</th>\n",
       "      <td>3</td>\n",
       "      <td>ZEN BOOK</td>\n",
       "      <td>ALG</td>\n",
       "      <td>INSPIRON</td>\n",
       "      <td>THINKPAD</td>\n",
       "    </tr>\n",
       "    <tr>\n",
       "      <th>3</th>\n",
       "      <td>4</td>\n",
       "      <td>CHOROME BOOK</td>\n",
       "      <td>PREDATOR</td>\n",
       "      <td>XPS</td>\n",
       "      <td>IDEAPAD</td>\n",
       "    </tr>\n",
       "    <tr>\n",
       "      <th>4</th>\n",
       "      <td>5</td>\n",
       "      <td>ROG</td>\n",
       "      <td>DUMMY</td>\n",
       "      <td>NaN</td>\n",
       "      <td>LEGION</td>\n",
       "    </tr>\n",
       "  </tbody>\n",
       "</table>\n",
       "</div>"
      ],
      "text/plain": [
       "   Unnamed: 0          ASUS                ACER       DELL     LENOVO\n",
       "0           1           TUF             NITRO_5   LATITUDE        LOQ\n",
       "1           2     VIVO BOOK  Chromebook Plus 15  ALIENWARE  YOGA SLIM\n",
       "2           3      ZEN BOOK                 ALG   INSPIRON   THINKPAD\n",
       "3           4  CHOROME BOOK            PREDATOR        XPS    IDEAPAD\n",
       "4           5           ROG               DUMMY        NaN     LEGION"
      ]
     },
     "execution_count": 17,
     "metadata": {},
     "output_type": "execute_result"
    }
   ],
   "source": [
    "d.drop(\"HP\",axis=1)"
   ]
  },
  {
   "cell_type": "markdown",
   "id": "328588c0-f6e7-4c88-8c72-9e4b6e61f34b",
   "metadata": {},
   "source": [
    "## Function shape is use d find row,column number"
   ]
  },
  {
   "cell_type": "markdown",
   "id": "c2fe5a14-c6e5-4b8a-b220-fbb1268266a3",
   "metadata": {},
   "source": [
    "using shape function for know the row&column of table"
   ]
  },
  {
   "cell_type": "code",
   "execution_count": 25,
   "id": "b7367129-dd69-4306-90ce-2540f7820868",
   "metadata": {},
   "outputs": [
    {
     "data": {
      "text/plain": [
       "(4, 3)"
      ]
     },
     "execution_count": 25,
     "metadata": {},
     "output_type": "execute_result"
    }
   ],
   "source": [
    "d.shape"
   ]
  },
  {
   "cell_type": "markdown",
   "id": "3f108d0a-b5c2-4253-9291-abf249f9958d",
   "metadata": {},
   "source": [
    "## Function Info used to know each and every column information get by this functon!"
   ]
  },
  {
   "cell_type": "markdown",
   "id": "07423f23-4465-4752-a1d0-dbffcad06a67",
   "metadata": {},
   "source": [
    "info function summarize the data in class type,index range,columns name&datatypes,non-null count,memory usage"
   ]
  },
  {
   "cell_type": "code",
   "execution_count": 26,
   "id": "85b537e7-db3d-4d82-bf2d-3517c1d755cf",
   "metadata": {
    "scrolled": true
   },
   "outputs": [
    {
     "name": "stdout",
     "output_type": "stream",
     "text": [
      "<class 'pandas.core.frame.DataFrame'>\n",
      "Index: 4 entries, 1 to 4\n",
      "Data columns (total 3 columns):\n",
      " #   Column  Non-Null Count  Dtype \n",
      "---  ------  --------------  ----- \n",
      " 0   winter  0 non-null      object\n",
      " 1   dry     4 non-null      object\n",
      " 2   rain    4 non-null      object\n",
      "dtypes: object(3)\n",
      "memory usage: 128.0+ bytes\n"
     ]
    }
   ],
   "source": [
    "d.info()"
   ]
  },
  {
   "cell_type": "markdown",
   "id": "3355a546-e6dc-4aa1-8ead-bd547db6e039",
   "metadata": {},
   "source": [
    "#"
   ]
  },
  {
   "cell_type": "code",
   "execution_count": 27,
   "id": "99aa4b79-bbaa-4914-a1ea-f8a12f144198",
   "metadata": {},
   "outputs": [],
   "source": [
    "kd = pd.read_csv('C:/Users/abishek/Downloads/Sample - Superstore.csv')"
   ]
  },
  {
   "cell_type": "code",
   "execution_count": 28,
   "id": "c795fb7b-f850-494a-905f-6204eb21a3d0",
   "metadata": {},
   "outputs": [
    {
     "name": "stdout",
     "output_type": "stream",
     "text": [
      "<class 'pandas.core.frame.DataFrame'>\n",
      "RangeIndex: 9994 entries, 0 to 9993\n",
      "Data columns (total 21 columns):\n",
      " #   Column         Non-Null Count  Dtype  \n",
      "---  ------         --------------  -----  \n",
      " 0   Row ID         9994 non-null   int64  \n",
      " 1   Order ID       9994 non-null   object \n",
      " 2   Order Date     9994 non-null   object \n",
      " 3   Ship Date      9994 non-null   object \n",
      " 4   Ship Mode      9994 non-null   object \n",
      " 5   Customer ID    9994 non-null   object \n",
      " 6   Customer Name  9994 non-null   object \n",
      " 7   Segment        9994 non-null   object \n",
      " 8   Country        9994 non-null   object \n",
      " 9   City           9994 non-null   object \n",
      " 10  State          9994 non-null   object \n",
      " 11  Postal Code    9994 non-null   int64  \n",
      " 12  Region         9994 non-null   object \n",
      " 13  Product ID     9994 non-null   object \n",
      " 14  Category       9994 non-null   object \n",
      " 15  Sub-Category   9994 non-null   object \n",
      " 16  Product Name   9994 non-null   object \n",
      " 17  Sales          9994 non-null   float64\n",
      " 18  Quantity       9994 non-null   int64  \n",
      " 19  Discount       9994 non-null   float64\n",
      " 20  Profit         9994 non-null   float64\n",
      "dtypes: float64(3), int64(3), object(15)\n",
      "memory usage: 1.6+ MB\n"
     ]
    }
   ],
   "source": [
    "kd.info()"
   ]
  },
  {
   "cell_type": "code",
   "execution_count": 29,
   "id": "2829b4e3-43c6-451d-b35c-5c8e246ea304",
   "metadata": {},
   "outputs": [
    {
     "data": {
      "text/plain": [
       "(9994, 21)"
      ]
     },
     "execution_count": 29,
     "metadata": {},
     "output_type": "execute_result"
    }
   ],
   "source": [
    "kd.shape"
   ]
  },
  {
   "cell_type": "code",
   "execution_count": 30,
   "id": "4f1bc258-69b7-46ec-9e4e-4a93784b37c7",
   "metadata": {
    "scrolled": true
   },
   "outputs": [
    {
     "name": "stdout",
     "output_type": "stream",
     "text": [
      "Requirement already satisfied: xlrd in c:\\users\\abishek\\anaconda3\\envs\\abishek\\lib\\site-packages (2.0.1)Note: you may need to restart the kernel to use updated packages.\n",
      "\n"
     ]
    }
   ],
   "source": [
    "pip install xlrd"
   ]
  },
  {
   "cell_type": "code",
   "execution_count": null,
   "id": "3ef84555-9155-4950-81f9-ec0b2577eaa0",
   "metadata": {},
   "outputs": [],
   "source": []
  },
  {
   "cell_type": "code",
   "execution_count": null,
   "id": "f7c8d341-aa77-4a9f-a3d7-68af36571079",
   "metadata": {},
   "outputs": [],
   "source": []
  }
 ],
 "metadata": {
  "kernelspec": {
   "display_name": "Python 3 (ipykernel)",
   "language": "python",
   "name": "python3"
  },
  "language_info": {
   "codemirror_mode": {
    "name": "ipython",
    "version": 3
   },
   "file_extension": ".py",
   "mimetype": "text/x-python",
   "name": "python",
   "nbconvert_exporter": "python",
   "pygments_lexer": "ipython3",
   "version": "3.12.4"
  }
 },
 "nbformat": 4,
 "nbformat_minor": 5
}
