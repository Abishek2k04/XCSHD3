{
 "cells": [
  {
   "cell_type": "markdown",
   "id": "e505dcd0-214c-4d25-aeb1-5e64127fe8c9",
   "metadata": {},
   "source": [
    "**Datatypes =14**\n",
    "##### **int,folat,cmplx,string(\"\",'')**\n",
    "##### imaginary = complex\n",
    "###### list[](mutable,order,index,duplicate-allowed),tuples()(immutable,duplicate,index,orders),dictt{}(values only duplicate,mutable,idexed),set(unorders,mutable,no duplicate)no allowed in frozen set\n",
    "##### array(collection of diff data types)\n",
    "##### boolean - true,false\n",
    "##### decide program function conditional,loops,functions"
   ]
  },
  {
   "cell_type": "code",
   "execution_count": 1,
   "id": "ea6d7461-0718-4d08-aa18-86f8cee11c2d",
   "metadata": {},
   "outputs": [
    {
     "data": {
      "text/plain": [
       "8"
      ]
     },
     "execution_count": 1,
     "metadata": {},
     "output_type": "execute_result"
    }
   ],
   "source": [
    "val = \"24242 24\"\n",
    "len(val)"
   ]
  },
  {
   "cell_type": "code",
   "execution_count": 3,
   "id": "75022144-8ded-4de7-8323-4e5fa345e400",
   "metadata": {},
   "outputs": [],
   "source": [
    "sentence = \"let's do python programsll \""
   ]
  },
  {
   "cell_type": "code",
   "execution_count": 5,
   "id": "4ed7e536-4a57-4f81-a7e5-065278a926ab",
   "metadata": {},
   "outputs": [
    {
     "name": "stdout",
     "output_type": "stream",
     "text": [
      "let's do python programsll \n"
     ]
    }
   ],
   "source": [
    "print(sentence)"
   ]
  },
  {
   "cell_type": "code",
   "execution_count": 7,
   "id": "417f86f9-18d4-4546-9f5f-4d2820ba520f",
   "metadata": {},
   "outputs": [
    {
     "data": {
      "text/plain": [
       "27"
      ]
     },
     "execution_count": 7,
     "metadata": {},
     "output_type": "execute_result"
    }
   ],
   "source": [
    "len(sentence)"
   ]
  },
  {
   "cell_type": "code",
   "execution_count": 9,
   "id": "1072a435-6af8-4154-827e-e07ccb018f39",
   "metadata": {},
   "outputs": [
    {
     "data": {
      "text/plain": [
       "\"LET'S DO PYTHON PROGRAMSLL \""
      ]
     },
     "execution_count": 9,
     "metadata": {},
     "output_type": "execute_result"
    }
   ],
   "source": [
    "sentence.upper()"
   ]
  },
  {
   "cell_type": "code",
   "execution_count": 11,
   "id": "6c6cb891-1ef6-4ff6-a8d0-ea6a0edf9e76",
   "metadata": {},
   "outputs": [
    {
     "data": {
      "text/plain": [
       "\"let's do python programsll \""
      ]
     },
     "execution_count": 11,
     "metadata": {},
     "output_type": "execute_result"
    }
   ],
   "source": [
    "sentence.lower()"
   ]
  },
  {
   "cell_type": "code",
   "execution_count": 13,
   "id": "ccd66cd8-5d46-4e86-9b68-a790e4eeae8f",
   "metadata": {},
   "outputs": [
    {
     "data": {
      "text/plain": [
       "'24242 24'"
      ]
     },
     "execution_count": 13,
     "metadata": {},
     "output_type": "execute_result"
    }
   ],
   "source": [
    "val.upper()"
   ]
  },
  {
   "cell_type": "code",
   "execution_count": 15,
   "id": "8fab8b46-f9ce-487d-bc23-3e8467440522",
   "metadata": {},
   "outputs": [
    {
     "data": {
      "text/plain": [
       "[\"let's\", 'do', 'python', 'programsll']"
      ]
     },
     "execution_count": 15,
     "metadata": {},
     "output_type": "execute_result"
    }
   ],
   "source": [
    "sentence.split()"
   ]
  },
  {
   "cell_type": "code",
   "execution_count": 17,
   "id": "252826e6-242e-4143-9146-5afa4324fd74",
   "metadata": {},
   "outputs": [
    {
     "data": {
      "text/plain": [
       "\"Let's do python programsll \""
      ]
     },
     "execution_count": 17,
     "metadata": {},
     "output_type": "execute_result"
    }
   ],
   "source": [
    "sentence.capitalize()"
   ]
  },
  {
   "cell_type": "code",
   "execution_count": 24,
   "id": "661fccfa-c83d-47b9-af6e-566447f33b1f",
   "metadata": {},
   "outputs": [
    {
     "data": {
      "text/plain": [
       "'t'"
      ]
     },
     "execution_count": 24,
     "metadata": {},
     "output_type": "execute_result"
    }
   ],
   "source": [
    "sentence[2:5:6]"
   ]
  },
  {
   "cell_type": "code",
   "execution_count": 38,
   "id": "ed3596af-7a56-4f07-ac63-324a1baa36e7",
   "metadata": {},
   "outputs": [
    {
     "data": {
      "text/plain": [
       "'sherlo'"
      ]
     },
     "execution_count": 38,
     "metadata": {},
     "output_type": "execute_result"
    }
   ],
   "source": [
    "data = 'sherlock'\n",
    "data[:6]"
   ]
  },
  {
   "cell_type": "code",
   "execution_count": 48,
   "id": "d30dfa41-7a61-450d-bc44-805394351433",
   "metadata": {},
   "outputs": [
    {
     "data": {
      "text/plain": [
       "'ltsd yhnporml '"
      ]
     },
     "execution_count": 48,
     "metadata": {},
     "output_type": "execute_result"
    }
   ],
   "source": [
    "sentence[::2]"
   ]
  },
  {
   "cell_type": "code",
   "execution_count": 44,
   "id": "00f0c0f1-ec6f-4ee7-a41f-fb5986c9b12b",
   "metadata": {},
   "outputs": [
    {
     "data": {
      "text/plain": [
       "['l',\n",
       " 'e',\n",
       " 't',\n",
       " \"'\",\n",
       " 's',\n",
       " ' ',\n",
       " 'd',\n",
       " 'o',\n",
       " ' ',\n",
       " 'p',\n",
       " 'y',\n",
       " 't',\n",
       " 'h',\n",
       " 'o',\n",
       " 'n',\n",
       " ' ',\n",
       " 'p',\n",
       " 'r',\n",
       " 'o',\n",
       " 'g',\n",
       " 'r',\n",
       " 'a',\n",
       " 'm',\n",
       " 's',\n",
       " 'l',\n",
       " 'l',\n",
       " ' ']"
      ]
     },
     "execution_count": 44,
     "metadata": {},
     "output_type": "execute_result"
    }
   ],
   "source": [
    "list(sentence)"
   ]
  },
  {
   "cell_type": "code",
   "execution_count": 52,
   "id": "756cad05-5558-40f7-87eb-f1aa3c3f18f3",
   "metadata": {},
   "outputs": [],
   "source": [
    "Name='abishek'"
   ]
  },
  {
   "cell_type": "code",
   "execution_count": 54,
   "id": "8a8e2b12-991e-40ec-8098-d093f9c0b334",
   "metadata": {},
   "outputs": [
    {
     "data": {
      "text/plain": [
       "'abishek'"
      ]
     },
     "execution_count": 54,
     "metadata": {},
     "output_type": "execute_result"
    }
   ],
   "source": [
    "Name"
   ]
  },
  {
   "cell_type": "code",
   "execution_count": 60,
   "id": "2dcfce8a-95d4-43ec-884e-7cc01a5b8542",
   "metadata": {},
   "outputs": [
    {
     "data": {
      "text/plain": [
       "10"
      ]
     },
     "execution_count": 60,
     "metadata": {},
     "output_type": "execute_result"
    }
   ],
   "source": [
    "int(10)"
   ]
  },
  {
   "cell_type": "code",
   "execution_count": 66,
   "id": "19d2f105-fa77-4c57-8c80-7c8b518ab16b",
   "metadata": {},
   "outputs": [
    {
     "data": {
      "text/plain": [
       "6"
      ]
     },
     "execution_count": 66,
     "metadata": {},
     "output_type": "execute_result"
    }
   ],
   "source": [
    "6"
   ]
  },
  {
   "cell_type": "code",
   "execution_count": 68,
   "id": "bb380a66-2d57-4a77-88d4-6e6cf33822bb",
   "metadata": {},
   "outputs": [
    {
     "data": {
      "text/plain": [
       "int"
      ]
     },
     "execution_count": 68,
     "metadata": {},
     "output_type": "execute_result"
    }
   ],
   "source": [
    "type(6)"
   ]
  },
  {
   "cell_type": "code",
   "execution_count": 70,
   "id": "3cef573a-7bc4-40a9-8857-31b7067d6f14",
   "metadata": {},
   "outputs": [
    {
     "data": {
      "text/plain": [
       "0.1"
      ]
     },
     "execution_count": 70,
     "metadata": {},
     "output_type": "execute_result"
    }
   ],
   "source": [
    ".1"
   ]
  },
  {
   "cell_type": "code",
   "execution_count": 72,
   "id": "21870732-0f0e-43d8-b835-42e3838e961a",
   "metadata": {},
   "outputs": [
    {
     "data": {
      "text/plain": [
       "float"
      ]
     },
     "execution_count": 72,
     "metadata": {},
     "output_type": "execute_result"
    }
   ],
   "source": [
    "type(.1)"
   ]
  },
  {
   "cell_type": "code",
   "execution_count": 90,
   "id": "759fa3e0-0f2f-424a-8ad9-6d2291bfe333",
   "metadata": {},
   "outputs": [],
   "source": [
    "a=10\n",
    "b=.1\n",
    "c=-2+5j\n"
   ]
  },
  {
   "cell_type": "code",
   "execution_count": 92,
   "id": "6cc4e7c7-7edb-4392-912c-0c224c27bb43",
   "metadata": {},
   "outputs": [
    {
     "name": "stdout",
     "output_type": "stream",
     "text": [
      "10\n"
     ]
    }
   ],
   "source": [
    "print(a)"
   ]
  },
  {
   "cell_type": "code",
   "execution_count": 94,
   "id": "d50d074d-ba30-4462-9f6a-3f5b0b9e7014",
   "metadata": {},
   "outputs": [
    {
     "name": "stdout",
     "output_type": "stream",
     "text": [
      "0.1\n"
     ]
    }
   ],
   "source": [
    "print(b)"
   ]
  },
  {
   "cell_type": "code",
   "execution_count": 96,
   "id": "914e0dee-4117-44b7-8ba9-c0bc58c79dc9",
   "metadata": {},
   "outputs": [
    {
     "name": "stdout",
     "output_type": "stream",
     "text": [
      "(-2+5j)\n"
     ]
    }
   ],
   "source": [
    "print(c)"
   ]
  },
  {
   "cell_type": "code",
   "execution_count": 98,
   "id": "e21c4c65-069b-488f-aa12-a080e6c09be3",
   "metadata": {},
   "outputs": [
    {
     "data": {
      "text/plain": [
       "int"
      ]
     },
     "execution_count": 98,
     "metadata": {},
     "output_type": "execute_result"
    }
   ],
   "source": [
    "type(a)"
   ]
  },
  {
   "cell_type": "code",
   "execution_count": 100,
   "id": "1b4fe208-f35d-4f00-8b8e-f0c04262d1df",
   "metadata": {},
   "outputs": [
    {
     "data": {
      "text/plain": [
       "float"
      ]
     },
     "execution_count": 100,
     "metadata": {},
     "output_type": "execute_result"
    }
   ],
   "source": [
    "type(b)"
   ]
  },
  {
   "cell_type": "code",
   "execution_count": 102,
   "id": "56325e3d-7be4-4a72-a394-be87688caf9c",
   "metadata": {},
   "outputs": [
    {
     "data": {
      "text/plain": [
       "complex"
      ]
     },
     "execution_count": 102,
     "metadata": {},
     "output_type": "execute_result"
    }
   ],
   "source": [
    "type(c)"
   ]
  },
  {
   "cell_type": "code",
   "execution_count": 105,
   "id": "a8ecd234-dae4-49c0-ab35-93d300ddaf75",
   "metadata": {},
   "outputs": [],
   "source": [
    "j=5"
   ]
  },
  {
   "cell_type": "code",
   "execution_count": 107,
   "id": "868cc748-936f-43b7-9cf1-a4194e01de90",
   "metadata": {},
   "outputs": [
    {
     "name": "stdout",
     "output_type": "stream",
     "text": [
      "(-2+5j)\n"
     ]
    }
   ],
   "source": [
    "print(c)"
   ]
  },
  {
   "cell_type": "code",
   "execution_count": null,
   "id": "89597c39-d418-4000-8731-47991e1976de",
   "metadata": {},
   "outputs": [],
   "source": []
  }
 ],
 "metadata": {
  "kernelspec": {
   "display_name": "Python 3 (ipykernel)",
   "language": "python",
   "name": "python3"
  },
  "language_info": {
   "codemirror_mode": {
    "name": "ipython",
    "version": 3
   },
   "file_extension": ".py",
   "mimetype": "text/x-python",
   "name": "python",
   "nbconvert_exporter": "python",
   "pygments_lexer": "ipython3",
   "version": "3.12.4"
  }
 },
 "nbformat": 4,
 "nbformat_minor": 5
}
