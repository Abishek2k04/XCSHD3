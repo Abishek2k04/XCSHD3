{
 "cells": [
  {
   "cell_type": "markdown",
   "id": "76fb8d32-2bf9-4f92-9649-1f8bad606011",
   "metadata": {},
   "source": [
    "# list operation"
   ]
  },
  {
   "cell_type": "markdown",
   "id": "ec129319-a7bc-4081-a596-eab9a792623c",
   "metadata": {},
   "source": [
    "# #creating list"
   ]
  },
  {
   "cell_type": "code",
   "execution_count": null,
   "id": "a7d7350f-e134-43d8-8680-38eb36ebc301",
   "metadata": {},
   "outputs": [],
   "source": [
    "list = [1,2.5,5j]"
   ]
  },
  {
   "cell_type": "code",
   "execution_count": null,
   "id": "4550f561-cf8d-4ff6-8b41-07b69cb4462c",
   "metadata": {},
   "outputs": [],
   "source": [
    "frt = [\"apple\" , \"mangoo\" ,23,5j,12.65,\"grape\"]"
   ]
  },
  {
   "cell_type": "code",
   "execution_count": null,
   "id": "b7b76888-b00c-4050-a25b-98d8171afe48",
   "metadata": {},
   "outputs": [],
   "source": [
    "frt"
   ]
  },
  {
   "cell_type": "code",
   "execution_count": null,
   "id": "3838a383-3803-4a06-bca8-5010ab80cf8a",
   "metadata": {},
   "outputs": [],
   "source": [
    "type(frt)"
   ]
  },
  {
   "cell_type": "code",
   "execution_count": null,
   "id": "67ec87d5-5d91-469e-ac7f-331f07cea999",
   "metadata": {},
   "outputs": [],
   "source": [
    "fr = [\"apple\" , \"mangoo\" ,23,5j,12.65,\"grape\"]"
   ]
  },
  {
   "cell_type": "code",
   "execution_count": null,
   "id": "3254ae2a-6cc0-4197-ab52-e9a7f244e5a0",
   "metadata": {},
   "outputs": [],
   "source": [
    "fr"
   ]
  },
  {
   "cell_type": "code",
   "execution_count": null,
   "id": "21d9f22d-d143-4700-8c5e-a1b3a40d8d7b",
   "metadata": {},
   "outputs": [],
   "source": [
    "len(frt)"
   ]
  },
  {
   "cell_type": "code",
   "execution_count": null,
   "id": "56152b60-3a45-40e8-8010-340043962dae",
   "metadata": {},
   "outputs": [],
   "source": [
    "frt"
   ]
  },
  {
   "cell_type": "code",
   "execution_count": null,
   "id": "32076734-ef5b-4ef7-934f-9224ce126d63",
   "metadata": {},
   "outputs": [],
   "source": [
    "frt[4]"
   ]
  },
  {
   "cell_type": "code",
   "execution_count": null,
   "id": "9af74915-4484-42d8-9172-46af79de7ec2",
   "metadata": {},
   "outputs": [],
   "source": [
    "frt[5]"
   ]
  },
  {
   "cell_type": "code",
   "execution_count": null,
   "id": "9490687b-adc4-4374-8365-3d4b69b2c65b",
   "metadata": {},
   "outputs": [],
   "source": [
    "frt[0:2]"
   ]
  },
  {
   "cell_type": "code",
   "execution_count": null,
   "id": "9fbf93b0-21c5-4c93-9540-e95c763cf591",
   "metadata": {},
   "outputs": [],
   "source": [
    "frt[::2]"
   ]
  },
  {
   "cell_type": "code",
   "execution_count": null,
   "id": "86266d9a-0aee-4070-9cc5-f4b8f935f3cd",
   "metadata": {},
   "outputs": [],
   "source": [
    "frt[-2]"
   ]
  },
  {
   "cell_type": "code",
   "execution_count": null,
   "id": "fd540311-2128-4e3a-a006-4eb9b081ef85",
   "metadata": {},
   "outputs": [],
   "source": [
    "frt"
   ]
  },
  {
   "cell_type": "code",
   "execution_count": null,
   "id": "a995b8b1-a50f-4a32-9fd6-7b8199085fc2",
   "metadata": {},
   "outputs": [],
   "source": [
    "frt.append(\"papaya\")\n",
    "print(frt)"
   ]
  },
  {
   "cell_type": "markdown",
   "id": "a2311fc1-4e6c-4afb-9f8a-f9e03cf24630",
   "metadata": {},
   "source": [
    "# remove element"
   ]
  },
  {
   "cell_type": "code",
   "execution_count": null,
   "id": "e4a2916f-45cd-4bfd-b193-558e18b2c85e",
   "metadata": {},
   "outputs": [],
   "source": [
    "frt.remove(\"papaya\")"
   ]
  },
  {
   "cell_type": "code",
   "execution_count": null,
   "id": "fd48baf4-c27e-4b84-9159-e0e7852c670f",
   "metadata": {},
   "outputs": [],
   "source": [
    "print(frt)"
   ]
  },
  {
   "cell_type": "code",
   "execution_count": null,
   "id": "ad2cd2af-3483-49bf-8eab-01a5a802725c",
   "metadata": {},
   "outputs": [],
   "source": [
    "frt.append(\"Apple\")"
   ]
  },
  {
   "cell_type": "code",
   "execution_count": null,
   "id": "138072d6-f613-4bd4-9ea9-580d2b103d39",
   "metadata": {},
   "outputs": [],
   "source": [
    "frt.append(\"Payaya\")"
   ]
  },
  {
   "cell_type": "code",
   "execution_count": null,
   "id": "68a2f9fa-15f0-4e92-a478-9e3d7ba12512",
   "metadata": {},
   "outputs": [],
   "source": [
    "frt"
   ]
  },
  {
   "cell_type": "code",
   "execution_count": null,
   "id": "324bc00e-0550-47fd-ae00-4304fc5c50e7",
   "metadata": {},
   "outputs": [],
   "source": [
    "frt.extend(list)"
   ]
  },
  {
   "cell_type": "code",
   "execution_count": null,
   "id": "3fd48129-1ed9-4405-9146-b14224bfd499",
   "metadata": {},
   "outputs": [],
   "source": [
    "print(frt)"
   ]
  },
  {
   "cell_type": "code",
   "execution_count": null,
   "id": "e9d4afe8-36ee-4778-be9a-0622eb9d1fba",
   "metadata": {},
   "outputs": [],
   "source": [
    "print(frt)"
   ]
  },
  {
   "cell_type": "code",
   "execution_count": null,
   "id": "d2453495-18de-4cce-b0b1-49706b3eed95",
   "metadata": {},
   "outputs": [],
   "source": [
    "frt"
   ]
  },
  {
   "cell_type": "code",
   "execution_count": null,
   "id": "c6a94eb7-be43-48c2-a993-53c2cd204d8d",
   "metadata": {},
   "outputs": [],
   "source": [
    "frt"
   ]
  },
  {
   "cell_type": "code",
   "execution_count": null,
   "id": "2f5bdcf0-fb63-4c20-8dd8-b950b8cf98e2",
   "metadata": {},
   "outputs": [],
   "source": [
    "frt.pop()\n",
    "print(frt)"
   ]
  },
  {
   "cell_type": "code",
   "execution_count": null,
   "id": "5fc9293d-3069-4afc-b8b1-910c340f418a",
   "metadata": {},
   "outputs": [],
   "source": [
    "frt.remove(\"mangoo\")"
   ]
  },
  {
   "cell_type": "code",
   "execution_count": null,
   "id": "f30d86b6-f311-4402-8920-69dc02e95f45",
   "metadata": {},
   "outputs": [],
   "source": [
    "del frt[0:2]\n",
    "frt"
   ]
  },
  {
   "cell_type": "code",
   "execution_count": null,
   "id": "e022251d-9aa1-4663-8ef3-0cbf24730b23",
   "metadata": {},
   "outputs": [],
   "source": [
    "a = list.copy()\n",
    "print(a)"
   ]
  },
  {
   "cell_type": "code",
   "execution_count": null,
   "id": "58ba04fe-8e6c-43b3-9516-83459ccfe93c",
   "metadata": {},
   "outputs": [],
   "source": [
    "a.append(\"abishek\")"
   ]
  },
  {
   "cell_type": "code",
   "execution_count": null,
   "id": "daa25f55-f608-4b31-9610-5c89e17bb6fb",
   "metadata": {},
   "outputs": [],
   "source": [
    "a"
   ]
  },
  {
   "cell_type": "markdown",
   "id": "ea944b53-7cc9-4209-8acc-13956693e707",
   "metadata": {},
   "source": [
    "## copy list to new"
   ]
  },
  {
   "cell_type": "code",
   "execution_count": null,
   "id": "fe335f83-4e42-4bc0-93cb-08e87abe8fbb",
   "metadata": {},
   "outputs": [],
   "source": [
    "b = frt.copy()\n",
    "print(b)"
   ]
  },
  {
   "cell_type": "markdown",
   "id": "47e5a152-86f6-4bcb-a92b-85e397f2a908",
   "metadata": {},
   "source": [
    "## Creating Tuples"
   ]
  },
  {
   "cell_type": "code",
   "execution_count": 1,
   "id": "5e9bbec9-a027-43db-a315-fe351525a5b6",
   "metadata": {},
   "outputs": [],
   "source": [
    "name = (\"Abishek\",10,20,30,40,\"Rider\",20.50,10,9j)"
   ]
  },
  {
   "cell_type": "code",
   "execution_count": 3,
   "id": "d4a0c6b2-2f68-44af-b140-2d4b1eb80bd9",
   "metadata": {},
   "outputs": [],
   "source": [
    "a = (100,200,300)"
   ]
  },
  {
   "cell_type": "code",
   "execution_count": 5,
   "id": "c903b454-e747-4286-9767-4744f33257eb",
   "metadata": {},
   "outputs": [
    {
     "data": {
      "text/plain": [
       "('Abishek', 10, 20, 30, 40, 'Rider', 20.5, 10, 9j)"
      ]
     },
     "execution_count": 5,
     "metadata": {},
     "output_type": "execute_result"
    }
   ],
   "source": [
    "name "
   ]
  },
  {
   "cell_type": "code",
   "execution_count": 7,
   "id": "1956651e-2035-4082-bd21-8fe8426ab93d",
   "metadata": {},
   "outputs": [
    {
     "data": {
      "text/plain": [
       "tuple"
      ]
     },
     "execution_count": 7,
     "metadata": {},
     "output_type": "execute_result"
    }
   ],
   "source": [
    "type(name)"
   ]
  },
  {
   "cell_type": "code",
   "execution_count": 11,
   "id": "98caf8d7-d5d1-4136-9663-0737c21c2ad5",
   "metadata": {},
   "outputs": [
    {
     "data": {
      "text/plain": [
       "9"
      ]
     },
     "execution_count": 11,
     "metadata": {},
     "output_type": "execute_result"
    }
   ],
   "source": [
    "len(name)"
   ]
  },
  {
   "cell_type": "code",
   "execution_count": 23,
   "id": "1a73503b-ef5a-4f89-99c6-aa1016d5646e",
   "metadata": {},
   "outputs": [
    {
     "data": {
      "text/plain": [
       "('Rider', 20.5, 10, 9j)"
      ]
     },
     "execution_count": 23,
     "metadata": {},
     "output_type": "execute_result"
    }
   ],
   "source": [
    "name[5:10]"
   ]
  },
  {
   "cell_type": "code",
   "execution_count": 25,
   "id": "d07d82f7-c6de-433f-b3e2-308c4c1f83aa",
   "metadata": {},
   "outputs": [
    {
     "ename": "TypeError",
     "evalue": "'tuple' object does not support item assignment",
     "output_type": "error",
     "traceback": [
      "\u001b[1;31m---------------------------------------------------------------------------\u001b[0m",
      "\u001b[1;31mTypeError\u001b[0m                                 Traceback (most recent call last)",
      "Cell \u001b[1;32mIn[25], line 1\u001b[0m\n\u001b[1;32m----> 1\u001b[0m name[\u001b[38;5;241m0\u001b[39m] \u001b[38;5;241m=\u001b[39m \u001b[38;5;124m\"\u001b[39m\u001b[38;5;124mAbishek\u001b[39m\u001b[38;5;124m\"\u001b[39m\n",
      "\u001b[1;31mTypeError\u001b[0m: 'tuple' object does not support item assignment"
     ]
    }
   ],
   "source": [
    "name[0] = \"Abishek\""
   ]
  },
  {
   "cell_type": "code",
   "execution_count": 30,
   "id": "ba933d37-a4fd-4342-bfdf-41ced8ec423e",
   "metadata": {},
   "outputs": [
    {
     "data": {
      "text/plain": [
       "('Abishek', 40, 9j)"
      ]
     },
     "execution_count": 30,
     "metadata": {},
     "output_type": "execute_result"
    }
   ],
   "source": [
    "name[::4]"
   ]
  },
  {
   "cell_type": "code",
   "execution_count": null,
   "id": "5b0b9bab-ceff-4264-b000-7c67ac0a5765",
   "metadata": {},
   "outputs": [],
   "source": []
  }
 ],
 "metadata": {
  "kernelspec": {
   "display_name": "Python 3 (ipykernel)",
   "language": "python",
   "name": "python3"
  },
  "language_info": {
   "codemirror_mode": {
    "name": "ipython",
    "version": 3
   },
   "file_extension": ".py",
   "mimetype": "text/x-python",
   "name": "python",
   "nbconvert_exporter": "python",
   "pygments_lexer": "ipython3",
   "version": "3.12.4"
  }
 },
 "nbformat": 4,
 "nbformat_minor": 5
}
