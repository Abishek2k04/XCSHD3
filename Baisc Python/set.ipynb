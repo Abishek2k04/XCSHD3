{
 "cells": [
  {
   "cell_type": "markdown",
   "id": "47ffb56f-6f1a-48be-a3e9-a7f2b6075bf6",
   "metadata": {
    "jp-MarkdownHeadingCollapsed": true
   },
   "source": [
    "# Set With Frozen Set\n"
   ]
  },
  {
   "cell_type": "code",
   "execution_count": 75,
   "id": "3bd9891f-1dd0-49f8-b9c3-974d5bc0a19b",
   "metadata": {},
   "outputs": [],
   "source": [
    "name = frozenset({1,2,3,4,5,6,\"hi\",\"pubg\",6+7j,1,50,\"hi\"})"
   ]
  },
  {
   "cell_type": "code",
   "execution_count": 90,
   "id": "1f55c7fe-0a63-40cd-a19f-5306f8469f2b",
   "metadata": {},
   "outputs": [
    {
     "ename": "AttributeError",
     "evalue": "'frozenset' object has no attribute 'push'",
     "output_type": "error",
     "traceback": [
      "\u001b[1;31m---------------------------------------------------------------------------\u001b[0m",
      "\u001b[1;31mAttributeError\u001b[0m                            Traceback (most recent call last)",
      "Cell \u001b[1;32mIn[90], line 1\u001b[0m\n\u001b[1;32m----> 1\u001b[0m name\u001b[38;5;241m.\u001b[39mpush(\u001b[38;5;241m5\u001b[39m)\n",
      "\u001b[1;31mAttributeError\u001b[0m: 'frozenset' object has no attribute 'push'"
     ]
    }
   ],
   "source": [
    "name.push(5)"
   ]
  },
  {
   "cell_type": "code",
   "execution_count": 79,
   "id": "15064b49-0e88-4fcb-8653-005e82a461f8",
   "metadata": {},
   "outputs": [
    {
     "data": {
      "text/plain": [
       "10"
      ]
     },
     "execution_count": 79,
     "metadata": {},
     "output_type": "execute_result"
    }
   ],
   "source": [
    "len(name)"
   ]
  },
  {
   "cell_type": "code",
   "execution_count": 81,
   "id": "dd184ce5-1fb8-4ebc-92b0-d56cfac72bde",
   "metadata": {},
   "outputs": [
    {
     "data": {
      "text/plain": [
       "frozenset"
      ]
     },
     "execution_count": 81,
     "metadata": {},
     "output_type": "execute_result"
    }
   ],
   "source": [
    "type(name)"
   ]
  },
  {
   "cell_type": "code",
   "execution_count": 94,
   "id": "292d2eba-c872-4ddd-821b-69825fd4509a",
   "metadata": {},
   "outputs": [],
   "source": [
    "a = {5,7,3,7,1,2,4,\"pubg\",\"bgmi\"}"
   ]
  },
  {
   "cell_type": "code",
   "execution_count": 12,
   "id": "6f93b986-aac2-4010-ae37-c64b4118835b",
   "metadata": {},
   "outputs": [
    {
     "data": {
      "text/plain": [
       "{1, 2, 3, 4, 5, 7, 'bgmi', 'pubg'}"
      ]
     },
     "execution_count": 12,
     "metadata": {},
     "output_type": "execute_result"
    }
   ],
   "source": [
    "a"
   ]
  },
  {
   "cell_type": "code",
   "execution_count": 18,
   "id": "2ff9e74b-344a-49cc-bc08-5ae62b98cc51",
   "metadata": {},
   "outputs": [],
   "source": [
    "b = {100, 99, 98, 97, 96, 95}"
   ]
  },
  {
   "cell_type": "code",
   "execution_count": 20,
   "id": "75d49170-9982-4beb-9e88-81353b059dcc",
   "metadata": {},
   "outputs": [
    {
     "data": {
      "text/plain": [
       "{95, 96, 97, 98, 99, 100}"
      ]
     },
     "execution_count": 20,
     "metadata": {},
     "output_type": "execute_result"
    }
   ],
   "source": [
    "b"
   ]
  },
  {
   "cell_type": "code",
   "execution_count": 24,
   "id": "08d26aa4-daf1-4c9e-bc99-553e608e6d15",
   "metadata": {},
   "outputs": [
    {
     "data": {
      "text/plain": [
       "6"
      ]
     },
     "execution_count": 24,
     "metadata": {},
     "output_type": "execute_result"
    }
   ],
   "source": [
    "len(b)"
   ]
  },
  {
   "cell_type": "code",
   "execution_count": 26,
   "id": "e79c1de6-f26e-4f3e-831b-b1b267f3d9b2",
   "metadata": {},
   "outputs": [],
   "source": [
    "b.add(\"50\")"
   ]
  },
  {
   "cell_type": "code",
   "execution_count": 28,
   "id": "8d5cc0d6-09cb-4e8d-9abb-39b8c00cb4ee",
   "metadata": {},
   "outputs": [
    {
     "data": {
      "text/plain": [
       "{100, '50', 95, 96, 97, 98, 99}"
      ]
     },
     "execution_count": 28,
     "metadata": {},
     "output_type": "execute_result"
    }
   ],
   "source": [
    "b"
   ]
  },
  {
   "cell_type": "code",
   "execution_count": 36,
   "id": "1a4c152b-b560-4ae7-b156-86118e5828e4",
   "metadata": {},
   "outputs": [
    {
     "data": {
      "text/plain": [
       "{(6+7j), 1, 2, 3, 4, 5, 50, 6, 'hi', 'pubg'}"
      ]
     },
     "execution_count": 36,
     "metadata": {},
     "output_type": "execute_result"
    }
   ],
   "source": [
    "name"
   ]
  },
  {
   "cell_type": "code",
   "execution_count": 38,
   "id": "9252507b-9adf-4bae-8397-2feac3d199fb",
   "metadata": {},
   "outputs": [],
   "source": [
    "name.add(5000)"
   ]
  },
  {
   "cell_type": "code",
   "execution_count": 40,
   "id": "7dc731af-29e0-4b79-8f5b-e0227993910d",
   "metadata": {},
   "outputs": [
    {
     "data": {
      "text/plain": [
       "{(6+7j), 1, 2, 3, 4, 5, 50, 5000, 6, 'hi', 'pubg'}"
      ]
     },
     "execution_count": 40,
     "metadata": {},
     "output_type": "execute_result"
    }
   ],
   "source": [
    "name"
   ]
  },
  {
   "cell_type": "code",
   "execution_count": 56,
   "id": "f96bf892-f09c-4963-b78c-d703ea625d54",
   "metadata": {},
   "outputs": [],
   "source": [
    "b.update({\"pubg\",\"Est\"})"
   ]
  },
  {
   "cell_type": "code",
   "execution_count": 64,
   "id": "57662a90-8c4c-4b0d-9457-dd79c6e70b6f",
   "metadata": {},
   "outputs": [
    {
     "data": {
      "text/plain": [
       "{100, 20, 202, 2024, '50', 95, 96, 97, 98, 99, 'Est', 'pubg'}"
      ]
     },
     "execution_count": 64,
     "metadata": {},
     "output_type": "execute_result"
    }
   ],
   "source": [
    "b"
   ]
  },
  {
   "cell_type": "code",
   "execution_count": 62,
   "id": "c4542185-7c93-461a-80b6-ac1d0a6885c7",
   "metadata": {},
   "outputs": [],
   "source": [
    "b.update({20,202,2024})"
   ]
  },
  {
   "cell_type": "code",
   "execution_count": 66,
   "id": "39144bc6-954c-4187-9493-68356744f4d9",
   "metadata": {},
   "outputs": [],
   "source": [
    "name.remove(6+7j)"
   ]
  },
  {
   "cell_type": "code",
   "execution_count": 83,
   "id": "da6e30f8-fdbe-4f53-9259-9fc95aaed95d",
   "metadata": {},
   "outputs": [
    {
     "data": {
      "text/plain": [
       "frozenset({(6+7j), 1, 2, 3, 4, 5, 50, 6, 'hi', 'pubg'})"
      ]
     },
     "execution_count": 83,
     "metadata": {},
     "output_type": "execute_result"
    }
   ],
   "source": [
    "name"
   ]
  },
  {
   "cell_type": "code",
   "execution_count": 84,
   "id": "089cced5-daaf-481e-8d9a-b5cb37ea9553",
   "metadata": {},
   "outputs": [],
   "source": [
    "name.discard(5000)"
   ]
  },
  {
   "cell_type": "code",
   "execution_count": 86,
   "id": "d70d1fc7-d0d8-4de5-a18a-0a7acf6fc83a",
   "metadata": {},
   "outputs": [
    {
     "data": {
      "text/plain": [
       "{1, 2, 3, 4, 5, 50, 6, 'E', 'Est', 'b', 'g', 'hi', 'p', 'pubg', 's', 't', 'u'}"
      ]
     },
     "execution_count": 86,
     "metadata": {},
     "output_type": "execute_result"
    }
   ],
   "source": [
    "name"
   ]
  },
  {
   "cell_type": "code",
   "execution_count": 92,
   "id": "e23ba437-012a-4a59-bb4b-609da4c7c76a",
   "metadata": {},
   "outputs": [
    {
     "data": {
      "text/plain": [
       "{'bgmi'}"
      ]
     },
     "execution_count": 92,
     "metadata": {},
     "output_type": "execute_result"
    }
   ],
   "source": [
    "a.pop()\n",
    " pilot g-205"
   ]
  },
  {
   "cell_type": "markdown",
   "id": "8f0850b7-fdb1-4fae-a9e5-575b7a471268",
   "metadata": {},
   "source": [
    "### Union Operation"
   ]
  },
  {
   "cell_type": "code",
   "execution_count": 96,
   "id": "6a69c314-dff1-4705-a16f-57f7d0743d45",
   "metadata": {},
   "outputs": [
    {
     "data": {
      "text/plain": [
       "{(6+7j), 1, 2, 3, 4, 5, 50, 6, 7, 'bgmi', 'hi', 'pubg'}"
      ]
     },
     "execution_count": 96,
     "metadata": {},
     "output_type": "execute_result"
    }
   ],
   "source": [
    "a | name"
   ]
  },
  {
   "cell_type": "code",
   "execution_count": 98,
   "id": "48b46af9-8461-497a-937f-e8cbefafa435",
   "metadata": {},
   "outputs": [
    {
     "data": {
      "text/plain": [
       "frozenset({(6+7j), 1, 2, 3, 4, 5, 50, 6, 7, 'bgmi', 'hi', 'pubg'})"
      ]
     },
     "execution_count": 98,
     "metadata": {},
     "output_type": "execute_result"
    }
   ],
   "source": [
    "name | a"
   ]
  },
  {
   "cell_type": "code",
   "execution_count": 100,
   "id": "5b80421a-ea3c-456c-8bb7-21343aa328bf",
   "metadata": {},
   "outputs": [
    {
     "data": {
      "text/plain": [
       "{1, 2, 3, 4, 5, 'pubg'}"
      ]
     },
     "execution_count": 100,
     "metadata": {},
     "output_type": "execute_result"
    }
   ],
   "source": [
    "a & name"
   ]
  },
  {
   "cell_type": "markdown",
   "id": "324bb565-5ee7-42ee-9de3-b0da473e1194",
   "metadata": {},
   "source": [
    "# Dicct\n"
   ]
  },
  {
   "cell_type": "code",
   "execution_count": 1,
   "id": "8ffb4df3-cca3-4a59-87ca-1564d36c544e",
   "metadata": {},
   "outputs": [],
   "source": [
    "course = {1:\"dummy1\",2:\"dummy2\",3:\"dummy3\",4:\"dummy4\"}"
   ]
  },
  {
   "cell_type": "code",
   "execution_count": 3,
   "id": "0a25bc9b-3727-4884-8e12-4ee4a2c2c993",
   "metadata": {},
   "outputs": [],
   "source": [
    "dets = {\"name\":\"abishek\",\"age\":32,\"Occupation\":'Student'}"
   ]
  },
  {
   "cell_type": "code",
   "execution_count": 4,
   "id": "fd608224-94cc-416e-8203-1cc863e2d701",
   "metadata": {},
   "outputs": [
    {
     "data": {
      "text/plain": [
       "dict"
      ]
     },
     "execution_count": 4,
     "metadata": {},
     "output_type": "execute_result"
    }
   ],
   "source": [
    "type(course)"
   ]
  },
  {
   "cell_type": "code",
   "execution_count": 7,
   "id": "e56eeb12-3369-4973-992d-b641f963a27d",
   "metadata": {},
   "outputs": [
    {
     "name": "stdout",
     "output_type": "stream",
     "text": [
      "{1: 'dummy1', 2: 'dummy2', 3: 'dummy3', 4: 'dummy4'}\n"
     ]
    }
   ],
   "source": [
    "print(course)"
   ]
  },
  {
   "cell_type": "code",
   "execution_count": 9,
   "id": "24947ac2-72c6-4781-87f0-995bdfd3e14d",
   "metadata": {},
   "outputs": [
    {
     "data": {
      "text/plain": [
       "{'name': 'abishek', 'age': 32, 'Occupation': 'Student'}"
      ]
     },
     "execution_count": 9,
     "metadata": {},
     "output_type": "execute_result"
    }
   ],
   "source": [
    "dets"
   ]
  },
  {
   "cell_type": "code",
   "execution_count": 11,
   "id": "1847691e-1b00-4d98-82e7-611b289da4ba",
   "metadata": {},
   "outputs": [
    {
     "data": {
      "text/plain": [
       "3"
      ]
     },
     "execution_count": 11,
     "metadata": {},
     "output_type": "execute_result"
    }
   ],
   "source": [
    "len(dets)"
   ]
  },
  {
   "cell_type": "code",
   "execution_count": 13,
   "id": "90ad4e9a-5aeb-4484-9dc0-1733f00c76be",
   "metadata": {},
   "outputs": [
    {
     "data": {
      "text/plain": [
       "4"
      ]
     },
     "execution_count": 13,
     "metadata": {},
     "output_type": "execute_result"
    }
   ],
   "source": [
    "len(course)"
   ]
  },
  {
   "cell_type": "markdown",
   "id": "0a9668a3-4b4c-4a87-9f65-802a3bfa61ee",
   "metadata": {},
   "source": [
    "### Identify key in dict by keys()"
   ]
  },
  {
   "cell_type": "code",
   "execution_count": 16,
   "id": "25bb4ef7-ad03-4b68-a82f-020a3531614b",
   "metadata": {},
   "outputs": [
    {
     "data": {
      "text/plain": [
       "dict_keys(['name', 'age', 'Occupation'])"
      ]
     },
     "execution_count": 16,
     "metadata": {},
     "output_type": "execute_result"
    }
   ],
   "source": [
    "dets.keys()"
   ]
  },
  {
   "cell_type": "code",
   "execution_count": 18,
   "id": "c26e443e-7207-48aa-bca8-42bff7e021da",
   "metadata": {},
   "outputs": [
    {
     "data": {
      "text/plain": [
       "dict_keys([1, 2, 3, 4])"
      ]
     },
     "execution_count": 18,
     "metadata": {},
     "output_type": "execute_result"
    }
   ],
   "source": [
    "course.keys()"
   ]
  },
  {
   "cell_type": "markdown",
   "id": "6ae3f410-d384-4d97-84a4-8d3a9e335659",
   "metadata": {},
   "source": [
    "#### Displaying Values In Dict"
   ]
  },
  {
   "cell_type": "code",
   "execution_count": 21,
   "id": "db2587b8-1276-42e0-bf7a-babbe807b499",
   "metadata": {},
   "outputs": [
    {
     "data": {
      "text/plain": [
       "dict_values(['abishek', 32, 'Student'])"
      ]
     },
     "execution_count": 21,
     "metadata": {},
     "output_type": "execute_result"
    }
   ],
   "source": [
    "dets.values()"
   ]
  },
  {
   "cell_type": "code",
   "execution_count": 23,
   "id": "9a6d8888-ddf5-468b-8167-1a7ae36fc44e",
   "metadata": {},
   "outputs": [
    {
     "data": {
      "text/plain": [
       "dict_values(['dummy1', 'dummy2', 'dummy3', 'dummy4'])"
      ]
     },
     "execution_count": 23,
     "metadata": {},
     "output_type": "execute_result"
    }
   ],
   "source": [
    "course.values()"
   ]
  },
  {
   "cell_type": "markdown",
   "id": "f3a423a2-6fa3-46fe-b262-5172aa1826b9",
   "metadata": {
    "jp-MarkdownHeadingCollapsed": true
   },
   "source": [
    "### Print Both Keys&Values In Dict"
   ]
  },
  {
   "cell_type": "code",
   "execution_count": 26,
   "id": "3063e15f-c4eb-4a49-9b56-5ac05fb10771",
   "metadata": {},
   "outputs": [
    {
     "data": {
      "text/plain": [
       "dict_items([(1, 'dummy1'), (2, 'dummy2'), (3, 'dummy3'), (4, 'dummy4')])"
      ]
     },
     "execution_count": 26,
     "metadata": {},
     "output_type": "execute_result"
    }
   ],
   "source": [
    "course.items()"
   ]
  },
  {
   "cell_type": "code",
   "execution_count": 28,
   "id": "6bc6eaf4-00be-4c68-af8f-bdefb2318103",
   "metadata": {},
   "outputs": [
    {
     "data": {
      "text/plain": [
       "dict_items([('name', 'abishek'), ('age', 32), ('Occupation', 'Student')])"
      ]
     },
     "execution_count": 28,
     "metadata": {},
     "output_type": "execute_result"
    }
   ],
   "source": [
    "dets.items()"
   ]
  },
  {
   "cell_type": "markdown",
   "id": "01979d70-555a-4b71-995e-35b865c7903b",
   "metadata": {
    "jp-MarkdownHeadingCollapsed": true
   },
   "source": [
    "### Accessing Values using Keys"
   ]
  },
  {
   "cell_type": "code",
   "execution_count": 31,
   "id": "e629ec4b-326c-41ff-b3d7-12e8d5031578",
   "metadata": {},
   "outputs": [
    {
     "data": {
      "text/plain": [
       "'dummy2'"
      ]
     },
     "execution_count": 31,
     "metadata": {},
     "output_type": "execute_result"
    }
   ],
   "source": [
    "course[2]"
   ]
  },
  {
   "cell_type": "code",
   "execution_count": 33,
   "id": "4a24a8ab-4cbb-407e-9666-151b54578175",
   "metadata": {},
   "outputs": [
    {
     "data": {
      "text/plain": [
       "'dummy1'"
      ]
     },
     "execution_count": 33,
     "metadata": {},
     "output_type": "execute_result"
    }
   ],
   "source": [
    "course[2] = \"dummy1\"\n",
    "course[2]\n"
   ]
  },
  {
   "cell_type": "code",
   "execution_count": 35,
   "id": "357762cd-b7df-4d9a-bf38-728b7cb28dde",
   "metadata": {},
   "outputs": [
    {
     "data": {
      "text/plain": [
       "dict_items([(1, 'dummy1'), (2, 'dummy1'), (3, 'dummy3'), (4, 'dummy4')])"
      ]
     },
     "execution_count": 35,
     "metadata": {},
     "output_type": "execute_result"
    }
   ],
   "source": [
    "course.items()"
   ]
  },
  {
   "cell_type": "code",
   "execution_count": 37,
   "id": "410a3830-7a16-412a-af3b-819ca76275ea",
   "metadata": {},
   "outputs": [
    {
     "data": {
      "text/plain": [
       "32"
      ]
     },
     "execution_count": 37,
     "metadata": {},
     "output_type": "execute_result"
    }
   ],
   "source": [
    "dets['age']"
   ]
  },
  {
   "cell_type": "code",
   "execution_count": 39,
   "id": "84af5a59-027d-43cd-9963-fa4056d244e8",
   "metadata": {},
   "outputs": [
    {
     "data": {
      "text/plain": [
       "'dummy4'"
      ]
     },
     "execution_count": 39,
     "metadata": {},
     "output_type": "execute_result"
    }
   ],
   "source": [
    "course.get(4)"
   ]
  },
  {
   "cell_type": "code",
   "execution_count": 41,
   "id": "c0cb94e2-999e-40dd-8bb1-2a95d177cc40",
   "metadata": {},
   "outputs": [
    {
     "data": {
      "text/plain": [
       "'dummy5'"
      ]
     },
     "execution_count": 41,
     "metadata": {},
     "output_type": "execute_result"
    }
   ],
   "source": [
    "course[5] = \"dummy5\"\n",
    "course[5]"
   ]
  },
  {
   "cell_type": "code",
   "execution_count": 43,
   "id": "69425998-8519-4a22-8af0-14652ef3b2c4",
   "metadata": {},
   "outputs": [
    {
     "data": {
      "text/plain": [
       "{1: 'dummy1', 2: 'dummy1', 3: 'dummy3', 4: 'dummy4', 5: 'dummy5'}"
      ]
     },
     "execution_count": 43,
     "metadata": {},
     "output_type": "execute_result"
    }
   ],
   "source": [
    "course"
   ]
  },
  {
   "cell_type": "code",
   "execution_count": 45,
   "id": "39f619a6-178c-450d-8e91-b3e087ed4c8f",
   "metadata": {},
   "outputs": [
    {
     "data": {
      "text/plain": [
       "dict_items([(1, 'dummy1'), (2, 'dummy1'), (3, 'dummy3'), (4, 'dummy4'), (5, 'dummy5')])"
      ]
     },
     "execution_count": 45,
     "metadata": {},
     "output_type": "execute_result"
    }
   ],
   "source": [
    "course.items()"
   ]
  },
  {
   "cell_type": "code",
   "execution_count": 47,
   "id": "eddf30ea-f839-4841-85c5-86585e61dac7",
   "metadata": {},
   "outputs": [],
   "source": [
    "dets[\"college\"] = \"PMIST\""
   ]
  },
  {
   "cell_type": "code",
   "execution_count": 49,
   "id": "46244ca4-d08a-4068-ba46-2981ad98d78f",
   "metadata": {},
   "outputs": [
    {
     "data": {
      "text/plain": [
       "dict_items([('name', 'abishek'), ('age', 32), ('Occupation', 'Student'), ('college', 'PMIST')])"
      ]
     },
     "execution_count": 49,
     "metadata": {},
     "output_type": "execute_result"
    }
   ],
   "source": [
    "dets.items()"
   ]
  },
  {
   "cell_type": "markdown",
   "id": "aaf9037d-270c-40c5-b7f8-b84a7d9c8e6b",
   "metadata": {},
   "source": [
    "### Remove Element"
   ]
  },
  {
   "cell_type": "code",
   "execution_count": 52,
   "id": "99e96463-6f93-4d93-9f3d-9ec3dea40e5b",
   "metadata": {},
   "outputs": [
    {
     "data": {
      "text/plain": [
       "'PMIST'"
      ]
     },
     "execution_count": 52,
     "metadata": {},
     "output_type": "execute_result"
    }
   ],
   "source": [
    "dets.pop('college')"
   ]
  },
  {
   "cell_type": "code",
   "execution_count": 54,
   "id": "3015e6e9-32c8-4998-8dbd-df3216a335ea",
   "metadata": {},
   "outputs": [
    {
     "data": {
      "text/plain": [
       "dict_items([('name', 'abishek'), ('age', 32), ('Occupation', 'Student')])"
      ]
     },
     "execution_count": 54,
     "metadata": {},
     "output_type": "execute_result"
    }
   ],
   "source": [
    "dets.items()"
   ]
  },
  {
   "cell_type": "code",
   "execution_count": 60,
   "id": "ef59f77e-b351-4646-8486-864d4c5aaa5f",
   "metadata": {},
   "outputs": [
    {
     "data": {
      "text/plain": [
       "'dummy3'"
      ]
     },
     "execution_count": 60,
     "metadata": {},
     "output_type": "execute_result"
    }
   ],
   "source": [
    "course.pop(3)"
   ]
  },
  {
   "cell_type": "code",
   "execution_count": 62,
   "id": "92a083ef-7eb6-4c3d-93cb-31bc3838e071",
   "metadata": {},
   "outputs": [
    {
     "data": {
      "text/plain": [
       "dict_items([(1, 'dummy1'), (4, 'dummy4'), (5, 'dummy5')])"
      ]
     },
     "execution_count": 62,
     "metadata": {},
     "output_type": "execute_result"
    }
   ],
   "source": [
    "course.items()"
   ]
  },
  {
   "cell_type": "markdown",
   "id": "0748d0f5-f6bb-4e13-94fe-0cc039ea0e65",
   "metadata": {
    "jp-MarkdownHeadingCollapsed": true
   },
   "source": [
    "### Create An Copy Of Dict ###\n",
    "copy() used to copy exiting dict"
   ]
  },
  {
   "cell_type": "code",
   "execution_count": 66,
   "id": "9fc10247-7742-40f1-bdb3-48b019b7c47d",
   "metadata": {},
   "outputs": [],
   "source": [
    "name = dets.copy()"
   ]
  },
  {
   "cell_type": "code",
   "execution_count": 72,
   "id": "a71e0c2f-e457-4ec5-8b0d-6745463021dc",
   "metadata": {},
   "outputs": [
    {
     "data": {
      "text/plain": [
       "dict_items([('name', 'abishek'), ('age', 32), ('Occupation', 'Student')])"
      ]
     },
     "execution_count": 72,
     "metadata": {},
     "output_type": "execute_result"
    }
   ],
   "source": [
    "name.items()"
   ]
  },
  {
   "cell_type": "markdown",
   "id": "c56be95d-bc3f-47d9-ad42-9c45d67ca7d5",
   "metadata": {},
   "source": [
    "# Reading Values From User"
   ]
  },
  {
   "cell_type": "code",
   "execution_count": 21,
   "id": "f86dfbd6-7fb1-4578-b626-6e1659048b39",
   "metadata": {
    "scrolled": true
   },
   "outputs": [
    {
     "name": "stdin",
     "output_type": "stream",
     "text": [
      "Enter the name: abishek\n",
      "Enter the Number: 25851\n"
     ]
    }
   ],
   "source": [
    "a = input(\"Enter the name:\")\n",
    "b = int(input(\"Enter the Number:\"))          "
   ]
  },
  {
   "cell_type": "code",
   "execution_count": 23,
   "id": "0ea8cf71-24b8-45cf-914a-469d1f97bd87",
   "metadata": {},
   "outputs": [
    {
     "data": {
      "text/plain": [
       "'abishek'"
      ]
     },
     "execution_count": 23,
     "metadata": {},
     "output_type": "execute_result"
    }
   ],
   "source": [
    "a"
   ]
  },
  {
   "cell_type": "code",
   "execution_count": 25,
   "id": "cc244d1a-f9cf-491d-a75b-7d9338eccb3e",
   "metadata": {},
   "outputs": [
    {
     "data": {
      "text/plain": [
       "25851"
      ]
     },
     "execution_count": 25,
     "metadata": {},
     "output_type": "execute_result"
    }
   ],
   "source": [
    "b"
   ]
  },
  {
   "cell_type": "code",
   "execution_count": 27,
   "id": "5881720b-babf-4fc4-ad4f-35607c640146",
   "metadata": {},
   "outputs": [
    {
     "data": {
      "text/plain": [
       "str"
      ]
     },
     "execution_count": 27,
     "metadata": {},
     "output_type": "execute_result"
    }
   ],
   "source": [
    "type(a)"
   ]
  },
  {
   "cell_type": "code",
   "execution_count": 29,
   "id": "c7592a30-6aae-4b94-8159-639713563485",
   "metadata": {},
   "outputs": [
    {
     "data": {
      "text/plain": [
       "int"
      ]
     },
     "execution_count": 29,
     "metadata": {},
     "output_type": "execute_result"
    }
   ],
   "source": [
    "type(b)"
   ]
  },
  {
   "cell_type": "markdown",
   "id": "1b8628ac-f52f-4d73-ac48-9f1a0dce57d4",
   "metadata": {},
   "source": [
    "### Undertanding Syntax Of IF"
   ]
  },
  {
   "cell_type": "code",
   "execution_count": null,
   "id": "fc18bf7c-7ce9-4b31-83a9-b17d7a47a622",
   "metadata": {},
   "outputs": [],
   "source": []
  }
 ],
 "metadata": {
  "kernelspec": {
   "display_name": "Python 3 (ipykernel)",
   "language": "python",
   "name": "python3"
  },
  "language_info": {
   "codemirror_mode": {
    "name": "ipython",
    "version": 3
   },
   "file_extension": ".py",
   "mimetype": "text/x-python",
   "name": "python",
   "nbconvert_exporter": "python",
   "pygments_lexer": "ipython3",
   "version": "3.12.4"
  }
 },
 "nbformat": 4,
 "nbformat_minor": 5
}
