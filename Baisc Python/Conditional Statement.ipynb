{
 "cells": [
  {
   "cell_type": "markdown",
   "id": "eb5d0082-9f99-4547-9f28-5b0a36f55386",
   "metadata": {},
   "source": [
    "# Conditiional Statement\n",
    "### if,else,ifelse is imp"
   ]
  },
  {
   "cell_type": "code",
   "execution_count": 60,
   "id": "7a157ac4-803f-4b94-aa66-23f2029943f2",
   "metadata": {},
   "outputs": [
    {
     "name": "stdin",
     "output_type": "stream",
     "text": [
      "Enter The Num: 40\n"
     ]
    },
    {
     "name": "stdout",
     "output_type": "stream",
     "text": [
      "the number 40 is divisible by 2\n"
     ]
    }
   ],
   "source": [
    "a = input(\"Enter The Num:\")\n",
    "if int(a) % 2 ==0:\n",
    "    print(f\"the number {a} is divisible by 2\")\n",
    "\n"
   ]
  },
  {
   "cell_type": "markdown",
   "id": "4ab57840-4269-41b9-8586-9c249c5c3f7a",
   "metadata": {},
   "source": [
    "##### f is data frowarding {} is assign a value to print statement"
   ]
  },
  {
   "cell_type": "code",
   "execution_count": 72,
   "id": "68dd32e4-8c8b-49b5-8054-ff0b83e3ec5a",
   "metadata": {},
   "outputs": [
    {
     "name": "stdin",
     "output_type": "stream",
     "text": [
      " 78\n",
      " 2\n"
     ]
    },
    {
     "name": "stdout",
     "output_type": "stream",
     "text": [
      "The Number 78 is divisible by 2\n"
     ]
    }
   ],
   "source": [
    "num1 = int(input())\n",
    "num2 = int(input())\n",
    "\n",
    "if int(num1) % int(num2) ==0:\n",
    "    print(f\"The Number {num1} is divisible by {num2}\")\n",
    "else:\n",
    "    print(f\"Not Divisible By {b}\")"
   ]
  },
  {
   "cell_type": "markdown",
   "id": "4f036aba-f397-4f08-a75f-441a7acc30bb",
   "metadata": {},
   "source": [
    "### IF,ELSE f include {\"variable\"}"
   ]
  },
  {
   "cell_type": "markdown",
   "id": "e532c8cd-d649-4c2c-b8af-a91b762f1555",
   "metadata": {},
   "source": [
    "###### if <statements>:\n",
    "      <statements>\n",
    "###### else <statements>:\n",
    "    <statements>"
   ]
  },
  {
   "cell_type": "code",
   "execution_count": 21,
   "id": "b272d795-f6ae-48b1-b5d7-5c7d43852665",
   "metadata": {},
   "outputs": [
    {
     "name": "stdin",
     "output_type": "stream",
     "text": [
      " 85\n"
     ]
    }
   ],
   "source": [
    "a =input()"
   ]
  },
  {
   "cell_type": "code",
   "execution_count": 23,
   "id": "bee14cc0-ed73-495a-b6a3-5bc57fd42d86",
   "metadata": {},
   "outputs": [
    {
     "name": "stdout",
     "output_type": "stream",
     "text": [
      "The Format of 85 is positive\n"
     ]
    }
   ],
   "source": [
    "if int(a) >=0:\n",
    "    print(f\"The Format of {a} is positive\")\n",
    "else :\n",
    "    print(f\"The Format of {a} is negaticve\")"
   ]
  },
  {
   "cell_type": "code",
   "execution_count": 74,
   "id": "44857337-739e-43dd-bed8-d20b3d98a9ed",
   "metadata": {},
   "outputs": [
    {
     "name": "stdin",
     "output_type": "stream",
     "text": [
      " 5\n"
     ]
    }
   ],
   "source": [
    "a = int(input())"
   ]
  },
  {
   "cell_type": "code",
   "execution_count": 76,
   "id": "d2c87d17-9023-4165-835f-f0984c9af6cb",
   "metadata": {},
   "outputs": [
    {
     "name": "stdout",
     "output_type": "stream",
     "text": [
      "the number 5 is not divide\n"
     ]
    }
   ],
   "source": [
    "if a %6==0 and a % 9==0:\n",
    "    print(f\"the number {a} is divide\")\n",
    "\n",
    "else:\n",
    "    print(f\"the number {a} is not divide\")"
   ]
  },
  {
   "cell_type": "markdown",
   "id": "7afb6641-2655-4f7b-a381-e137acb66776",
   "metadata": {},
   "source": [
    "### Elif Statement Syntax(expert system)"
   ]
  },
  {
   "cell_type": "code",
   "execution_count": 94,
   "id": "9eef78cc-eeae-4065-aaec-dd257f17bab6",
   "metadata": {},
   "outputs": [
    {
     "name": "stdin",
     "output_type": "stream",
     "text": [
      " 0\n"
     ]
    }
   ],
   "source": [
    "a= int(input())"
   ]
  },
  {
   "cell_type": "code",
   "execution_count": 98,
   "id": "93a80575-da41-4fe9-abf3-e50d6b89fa64",
   "metadata": {},
   "outputs": [
    {
     "name": "stdout",
     "output_type": "stream",
     "text": [
      "0 is Neutral\n"
     ]
    }
   ],
   "source": [
    "if a==0:\n",
    "    print(f\"{a} is Neutral\")\n",
    "elif a<0:\n",
    "    print(f\"{a} is positive\")\n",
    "elif a>0:\n",
    "    print(f\"{a} is Negative\")\n",
    "else:\n",
    "    print(f\"{a} is Null\")\n",
    "    "
   ]
  },
  {
   "cell_type": "markdown",
   "id": "818437e0-4cd6-4561-bbbe-d7dda7b7deb4",
   "metadata": {
    "scrolled": true
   },
   "source": [
    "def expertsys():\n",
    "    print(\"Hello! I'm your expert system. Let's assess your symptoms.\")\n",
    "\n",
    "    while True:\n",
    "        user_input = input(\"Do you have any symptoms? (yes/no/exit): \").strip().lower()\n",
    "\n",
    "        if user_input == \"exit\":\n",
    "            print(\"Thanks for using me. Stay safe!\")\n",
    "            break\n",
    "        elif user_input == \"yes\":\n",
    "            print(\"You have mild symptoms.\")\n",
    "            travel_history = input(\"Have you recently traveled? (travel/notravel): \").strip().lower()\n",
    "            if travel_history == \"travel\":\n",
    "                print(\"You may have symptoms of a virus. Please consult a doctor!\")\n",
    "            elif travel_history == \"notravel\":\n",
    "                print(\"You don't have any major issues. Stay safe at home :)\")\n",
    "            else:\n",
    "                print(\"I didn't understand that. Please respond with 'travel' or 'notravel'.\")\n",
    "\n",
    "            fever_history = input(\"Do you have a fever? (fever/nofever): \").strip().lower()\n",
    "            if fever_history == \"fever\":\n",
    "                print(\"You may have COVID-19 symptoms. Please consult a doctor!\")\n",
    "            elif fever_history == \"nofever\":\n",
    "                print(\"You are advised to stay safe at home.\")\n",
    "            else:\n",
    "                print(\"I didn't understand that. Please respond with 'fever' or 'nofever'.\")\n",
    "\n",
    "        elif user_input == \"no\":\n",
    "            print(\"You don't have any symptoms. Stay safe!\")\n",
    "\n",
    "        else:\n",
    "            print(\"I didn't understand that. Please respond with 'yes', 'no', or 'exit'.\")\n",
    "\n",
    "\n",
    "expertsys()\n"
   ]
  },
  {
   "cell_type": "markdown",
   "id": "e3ac32be-9c8d-4bc4-83e7-fdb2f09cd1e6",
   "metadata": {},
   "source": []
  },
  {
   "cell_type": "code",
   "execution_count": null,
   "id": "a2a6c76a-8db4-4e5a-a39d-0ff1ac6a2d93",
   "metadata": {},
   "outputs": [],
   "source": []
  }
 ],
 "metadata": {
  "kernelspec": {
   "display_name": "Python 3 (ipykernel)",
   "language": "python",
   "name": "python3"
  },
  "language_info": {
   "codemirror_mode": {
    "name": "ipython",
    "version": 3
   },
   "file_extension": ".py",
   "mimetype": "text/x-python",
   "name": "python",
   "nbconvert_exporter": "python",
   "pygments_lexer": "ipython3",
   "version": "3.12.4"
  }
 },
 "nbformat": 4,
 "nbformat_minor": 5
}
