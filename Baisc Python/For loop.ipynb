{
 "cells": [
  {
   "cell_type": "markdown",
   "id": "03e9f205-5a79-4609-b9bc-a89f87f23ac7",
   "metadata": {},
   "source": [
    "#### understanding Loop\n",
    "### For Loop based on datas\n",
    "### Creating List"
   ]
  },
  {
   "cell_type": "code",
   "execution_count": 1,
   "id": "5bda6fa4-9a33-4b4c-ac26-8441195c6e39",
   "metadata": {},
   "outputs": [],
   "source": [
    "a = (1,2,3)\n",
    "b = ('asus','aspire')\n",
    "c = (1,2)"
   ]
  },
  {
   "cell_type": "code",
   "execution_count": 9,
   "id": "a496a7c7-2536-4593-b9f5-91c5b602880b",
   "metadata": {},
   "outputs": [
    {
     "name": "stdout",
     "output_type": "stream",
     "text": [
      "asus\n",
      "asus\n",
      "asus\n",
      "asus\n",
      "asus\n",
      "asus\n",
      "asus\n",
      "asus\n",
      "asus\n",
      "aspire\n",
      "aspire\n",
      "aspire\n",
      "aspire\n",
      "aspire\n",
      "aspire\n",
      "aspire\n",
      "aspire\n",
      "aspire\n"
     ]
    }
   ],
   "source": [
    "for i in b:\n",
    "    for j in a:\n",
    "        for k in a:\n",
    "            print(i)\n",
    "\n",
    "            "
   ]
  },
  {
   "cell_type": "code",
   "execution_count": 5,
   "id": "01661faf-baab-4fd3-ae71-bd278e6ceb62",
   "metadata": {},
   "outputs": [
    {
     "name": "stdout",
     "output_type": "stream",
     "text": [
      "asus\n",
      "aspire\n"
     ]
    }
   ],
   "source": [
    "for i in b:\n",
    "    print(i)"
   ]
  },
  {
   "cell_type": "code",
   "execution_count": 13,
   "id": "bec0b24a-0328-4069-a90f-18e65b0e8bdf",
   "metadata": {},
   "outputs": [
    {
     "name": "stdout",
     "output_type": "stream",
     "text": [
      "1\n",
      "1\n",
      "1\n",
      "1\n",
      "1\n",
      "1\n",
      "2\n",
      "2\n",
      "2\n",
      "2\n",
      "2\n",
      "2\n",
      "3\n",
      "3\n",
      "3\n",
      "3\n",
      "3\n",
      "3\n"
     ]
    }
   ],
   "source": [
    "for i in a:\n",
    "    for j in b:\n",
    "        for k in a:\n",
    "            print(i)"
   ]
  },
  {
   "cell_type": "markdown",
   "id": "e131c7c5-395e-4f1f-9670-ad2b32892010",
   "metadata": {},
   "source": [
    "## While Loop"
   ]
  },
  {
   "cell_type": "code",
   "execution_count": 1,
   "id": "4134b25e-6934-43c8-96c0-de2b0b6851ca",
   "metadata": {},
   "outputs": [
    {
     "name": "stdin",
     "output_type": "stream",
     "text": [
      "Enter a number:  5\n"
     ]
    },
    {
     "name": "stdout",
     "output_type": "stream",
     "text": [
      "The Sum is 0\n",
      "The Sum is 1\n",
      "The Sum is 3\n",
      "The Sum is 6\n",
      "The Sum is 10\n",
      "The Sum is 15\n"
     ]
    }
   ],
   "source": [
    "n = input(\"Enter a number: \")\n",
    "val = 0\n",
    "i = 0\n",
    "\n",
    "while i <= int(n):\n",
    "    val +=i\n",
    "    i += 1\n",
    "    print(f\"The Sum is {val}\")"
   ]
  },
  {
   "cell_type": "markdown",
   "id": "7b19f821-2481-440b-9096-8a5f515ff5e6",
   "metadata": {},
   "source": [
    "## Understanding function Syntax"
   ]
  },
  {
   "cell_type": "code",
   "execution_count": null,
   "id": "b30e6e6c-c4e4-4edf-a764-1e5cf987749c",
   "metadata": {},
   "outputs": [],
   "source": [
    "def <funvtion_name>(parameters):\n",
    "    <statemet(s)>"
   ]
  },
  {
   "cell_type": "markdown",
   "id": "cc049860-7fa9-438b-b575-f4a6ee24cf92",
   "metadata": {},
   "source": [
    "### function to print your name"
   ]
  },
  {
   "cell_type": "code",
   "execution_count": 7,
   "id": "9ff72d03-31df-4035-bf10-a987508a5cb6",
   "metadata": {},
   "outputs": [],
   "source": [
    "def intro(name):\n",
    "    print(f\"Hello,My Name is {name}.\")"
   ]
  },
  {
   "cell_type": "code",
   "execution_count": 9,
   "id": "2a23c88b-5ca4-4c34-88c2-2c4c91f3e1df",
   "metadata": {},
   "outputs": [
    {
     "name": "stdin",
     "output_type": "stream",
     "text": [
      "Enter Name:  kumar\n"
     ]
    }
   ],
   "source": [
    "stud_name = input(\"Enter Name: \")"
   ]
  },
  {
   "cell_type": "code",
   "execution_count": 11,
   "id": "3cf00a98-7dce-49d8-96c3-a7ba20d00d8b",
   "metadata": {},
   "outputs": [
    {
     "name": "stdout",
     "output_type": "stream",
     "text": [
      "Hello,My Name is kumar.\n"
     ]
    }
   ],
   "source": [
    "intro(stud_name)"
   ]
  },
  {
   "cell_type": "code",
   "execution_count": 37,
   "id": "7fa6ff8a-8873-4caa-bd93-a4b9a9877484",
   "metadata": {},
   "outputs": [],
   "source": [
    "def evenodd(num):\n",
    "    if int(num)%2 ==0:\n",
    "        print(f\"The Number {num} is even number\")\n",
    "    else:\n",
    "        print(f\"The Number {num} is odd number\")"
   ]
  },
  {
   "cell_type": "code",
   "execution_count": 39,
   "id": "b911f657-10e1-448c-9bc3-71459a2a1666",
   "metadata": {},
   "outputs": [
    {
     "name": "stdin",
     "output_type": "stream",
     "text": [
      " 223\n"
     ]
    }
   ],
   "source": [
    "num_ber = int(input())"
   ]
  },
  {
   "cell_type": "code",
   "execution_count": 41,
   "id": "839e5946-7edc-4ee3-bc7d-3a4058ac543e",
   "metadata": {},
   "outputs": [
    {
     "name": "stdout",
     "output_type": "stream",
     "text": [
      "The Number 223 is odd number\n"
     ]
    }
   ],
   "source": [
    "evenodd(num_ber)"
   ]
  },
  {
   "cell_type": "code",
   "execution_count": null,
   "id": "74f73bbd-021c-4af4-915b-704962c8b1a8",
   "metadata": {},
   "outputs": [],
   "source": []
  }
 ],
 "metadata": {
  "kernelspec": {
   "display_name": "Python 3 (ipykernel)",
   "language": "python",
   "name": "python3"
  },
  "language_info": {
   "codemirror_mode": {
    "name": "ipython",
    "version": 3
   },
   "file_extension": ".py",
   "mimetype": "text/x-python",
   "name": "python",
   "nbconvert_exporter": "python",
   "pygments_lexer": "ipython3",
   "version": "3.12.4"
  }
 },
 "nbformat": 4,
 "nbformat_minor": 5
}
