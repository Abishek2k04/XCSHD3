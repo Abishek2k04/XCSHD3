{
 "cells": [
  {
   "cell_type": "markdown",
   "metadata": {
    "id": "aAK3cTB7jm3Q"
   },
   "source": [
    "**SARSA(STATE ACTION REWARD)**"
   ]
  },
  {
   "cell_type": "code",
   "execution_count": null,
   "metadata": {
    "id": "NmiwhJksjNXR"
   },
   "outputs": [],
   "source": [
    "import numpy as np\n",
    "import gym"
   ]
  },
  {
   "cell_type": "markdown",
   "metadata": {
    "id": "ILoE8Er-keHc"
   },
   "source": [
    "**Epsilon Greedy Policy**"
   ]
  },
  {
   "cell_type": "code",
   "execution_count": null,
   "metadata": {
    "id": "DEne7xuDj8DT"
   },
   "outputs": [],
   "source": [
    "def eps_greedy(Q, s ,eps=0.1):\n",
    "    if np.random.uniform(0,1) < eps:\n",
    "        return np.random.randint(Q.shape[1])\n",
    "    else:\n",
    "        return greedy(Q, s)"
   ]
  },
  {
   "cell_type": "markdown",
   "metadata": {
    "id": "TZud5hmPkQWb"
   },
   "source": [
    "**Greedy Policy**"
   ]
  },
  {
   "cell_type": "code",
   "execution_count": null,
   "metadata": {
    "id": "xWTnCn2Rj-0I"
   },
   "outputs": [],
   "source": [
    "def greedy(Q, s):\n",
    "    return np.argmax(Q[s])"
   ]
  },
  {
   "cell_type": "markdown",
   "metadata": {
    "id": "9vninutdkCCg"
   },
   "source": [
    "**Policy** **Tesing**"
   ]
  },
  {
   "cell_type": "code",
   "execution_count": null,
   "metadata": {
    "id": "Hj_uCkhHkAX3"
   },
   "outputs": [],
   "source": [
    "def run_episodes(env, Q, num_episodes=100, to_print=False):\n",
    "    tot_rew = []\n",
    "    state = env.reset()\n",
    "    for _ in range(num_episodes):\n",
    "        done = False\n",
    "        game_rew = 0\n",
    "\n",
    "        while not done:\n",
    "            next_state, rew, done, _ =env.step(greedy(Q, state))\n",
    "            state = next_state\n",
    "            game_rew += rew\n",
    "\n",
    "            if done:\n",
    "                state=env.reset()\n",
    "                tot_rew.append(game_rew)\n",
    "        if to_print:\n",
    "          print('Mean score: %.3f of %i of games!'%(np.mean(tot_rew), num_episodes))\n",
    "\n",
    "    return np.mean(tot_rew)"
   ]
  },
  {
   "cell_type": "code",
   "execution_count": null,
   "metadata": {
    "id": "TY2lC0bCkqVy"
   },
   "outputs": [],
   "source": [
    "import numpy as np\n",
    "\n",
    "def SARSA(env, lr=0.01, num_episodes=10000, eps=0.3, gamma=0.95, eps_decay=0.00005):\n",
    "    nA = env.action_space.n\n",
    "    nS = env.observation_space.n\n",
    "\n",
    "    Q = np.zeros((nS, nA))\n",
    "    games_reward = []\n",
    "    test_rewards = []\n",
    "\n",
    "    for ep in range(num_episodes):\n",
    "        state = env.reset()\n",
    "        done = False\n",
    "        tot_rew = 0\n",
    "\n",
    "        action = eps_greedy(Q, state, eps)\n",
    "\n",
    "        while not done:\n",
    "            next_state, rew, done, _ = env.step(action)\n",
    "            next_action = eps_greedy(Q, next_state, eps)\n",
    "\n",
    "            Q[state][action] = Q[state][action] + lr * (rew + gamma * Q[next_state][next_action] - Q[state][action])\n",
    "\n",
    "            state = next_state\n",
    "            action = next_action\n",
    "            tot_rew += rew\n",
    "\n",
    "            if done:\n",
    "                games_reward.append(tot_rew)\n",
    "\n",
    "        if eps > 0.01:\n",
    "            eps -= eps_decay\n",
    "        if (ep % 300) == 0:\n",
    "            test_rew = run_episodes(env, Q, 1000)\n",
    "            print(\"Episode:{:5d} Eps:{:2.4f} Rew:{:2.4f}\".format(ep, eps, test_rew))\n",
    "            test_rewards.append(test_rew)\n",
    "\n",
    "    return Q\n"
   ]
  },
  {
   "cell_type": "code",
   "execution_count": 29,
   "metadata": {
    "colab": {
     "base_uri": "https://localhost:8080/"
    },
    "executionInfo": {
     "elapsed": 38115,
     "status": "ok",
     "timestamp": 1731320823187,
     "user": {
      "displayName": "abishek A",
      "userId": "05124680147325981537"
     },
     "user_tz": -330
    },
    "id": "8OZqxoD_qUmU",
    "outputId": "24801355-c7a3-4801-e6c1-5aa4081c7e60"
   },
   "outputs": [
    {
     "name": "stdout",
     "output_type": "stream",
     "text": [
      "SARSA\n",
      "Episode:    0 Eps:0.3990 Rew:-216.1910\n",
      "Episode:  300 Eps:0.0990 Rew:-197.8520\n",
      "Episode:  600 Eps:0.0100 Rew:-180.0610\n",
      "Episode:  900 Eps:0.0100 Rew:-143.9570\n",
      "Episode: 1200 Eps:0.0100 Rew:-90.3100\n",
      "Episode: 1500 Eps:0.0100 Rew:-62.3720\n",
      "Episode: 1800 Eps:0.0100 Rew:-62.7350\n",
      "Episode: 2100 Eps:0.0100 Rew:-29.8780\n",
      "Episode: 2400 Eps:0.0100 Rew:-3.3540\n",
      "Episode: 2700 Eps:0.0100 Rew:3.3040\n",
      "Episode: 3000 Eps:0.0100 Rew:4.3770\n",
      "Episode: 3300 Eps:0.0100 Rew:7.4070\n",
      "Episode: 3600 Eps:0.0100 Rew:7.0800\n",
      "Episode: 3900 Eps:0.0100 Rew:7.2040\n",
      "Episode: 4200 Eps:0.0100 Rew:7.8690\n",
      "Episode: 4500 Eps:0.0100 Rew:7.9690\n",
      "Episode: 4800 Eps:0.0100 Rew:7.9590\n"
     ]
    }
   ],
   "source": [
    "if __name__ == '__main__':\n",
    "    env = gym.make('Taxi-v3')\n",
    "    print(\"SARSA\")\n",
    "    Q_SARSA=SARSA(env, lr=.1, num_episodes=5000, eps=0.4, gamma=0.95, eps_decay=0.001)"
   ]
  },
  {
   "cell_type": "code",
   "execution_count": null,
   "metadata": {
    "id": "p9Kaz96Xq0yQ"
   },
   "outputs": [],
   "source": []
  }
 ],
 "metadata": {
  "colab": {
   "authorship_tag": "ABX9TyPQvi+sRz2Mevckp+OF+d35",
   "provenance": []
  },
  "kernelspec": {
   "display_name": "Python 3 (ipykernel)",
   "language": "python",
   "name": "python3"
  },
  "language_info": {
   "codemirror_mode": {
    "name": "ipython",
    "version": 3
   },
   "file_extension": ".py",
   "mimetype": "text/x-python",
   "name": "python",
   "nbconvert_exporter": "python",
   "pygments_lexer": "ipython3",
   "version": "3.12.4"
  }
 },
 "nbformat": 4,
 "nbformat_minor": 4
}
